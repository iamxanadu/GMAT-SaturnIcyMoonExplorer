{
 "cells": [
  {
   "cell_type": "code",
   "execution_count": 1,
   "metadata": {},
   "outputs": [
    {
     "data": {
      "text/plain": [
       "<ScienceState solar_system_ephemeris: 'jpl'>"
      ]
     },
     "execution_count": 1,
     "metadata": {},
     "output_type": "execute_result"
    }
   ],
   "source": [
    "import numpy as np\n",
    "import math\n",
    "\n",
    "import astropy.units as u\n",
    "from astropy.time import Time\n",
    "from astropy.coordinates import solar_system_ephemeris\n",
    "\n",
    "from poliastro.bodies import Sun,Venus, Earth, Jupiter, Saturn\n",
    "from poliastro.threebody import flybys\n",
    "from poliastro.twobody import Orbit\n",
    "from poliastro.maneuver import Maneuver\n",
    "from poliastro.iod import izzo\n",
    "from poliastro.plotting import OrbitPlotter2D\n",
    "from poliastro.util import norm\n",
    "import poliastro.twobody.propagation as Propagation\n",
    "\n",
    "from scipy import optimize as opt\n",
    " \n",
    "solar_system_ephemeris.set(\"jpl\")"
   ]
  },
  {
   "cell_type": "code",
   "execution_count": 86,
   "metadata": {},
   "outputs": [],
   "source": []
  },
  {
   "cell_type": "code",
   "execution_count": 87,
   "metadata": {},
   "outputs": [
    {
     "data": {
      "text/plain": [
       "<Time object: scale='tdb' format='iso' value=2041-01-08 00:00:00.000>"
      ]
     },
     "execution_count": 87,
     "metadata": {},
     "output_type": "execute_result"
    }
   ],
   "source": [
    "t_arrive_Venus"
   ]
  },
  {
   "cell_type": "code",
   "execution_count": 142,
   "metadata": {},
   "outputs": [
    {
     "name": "stderr",
     "output_type": "stream",
     "text": [
      "WARNING: ErfaWarning: ERFA function \"dtf2d\" yielded 1 of \"dubious year (Note 6)\" [astropy._erfa.core]\n",
      "WARNING: ErfaWarning: ERFA function \"utctai\" yielded 1 of \"dubious year (Note 3)\" [astropy._erfa.core]\n",
      "WARNING: ErfaWarning: ERFA function \"taiutc\" yielded 1 of \"dubious year (Note 4)\" [astropy._erfa.core]\n",
      "/Users/Devansh/anaconda3/lib/python3.6/site-packages/poliastro/twobody/orbit.py:389: TimeScaleWarning:\n",
      "\n",
      "Input time was converted to scale='tdb' with value 2041-02-27 00:01:09.185. Use Time(..., scale='tdb') instead.\n",
      "\n"
     ]
    }
   ],
   "source": [
    "t_arrive_Venus = Time(\"2041-01-08\",scale=\"tdb\")\n",
    "t_arrive_Earth = Time(\"2041-02-27\")\n",
    "t_launch = t_arrive_Venus-2*u.year\n",
    "o_vL = Orbit.from_body_ephem(Venus,t_launch)\n",
    "o_vV = Orbit.from_body_ephem(Venus,t_arrive_Venus)\n",
    "o_eL = Orbit.from_body_ephem(Earth,t_launch)\n",
    "o_eV = Orbit.from_body_ephem(Earth,t_arrive_Venus)\n",
    "o_eE = Orbit.from_body_ephem(Earth,t_arrive_Earth)"
   ]
  },
  {
   "cell_type": "code",
   "execution_count": null,
   "metadata": {},
   "outputs": [],
   "source": []
  },
  {
   "cell_type": "code",
   "execution_count": 143,
   "metadata": {},
   "outputs": [
    {
     "name": "stderr",
     "output_type": "stream",
     "text": [
      "/Users/Devansh/anaconda3/lib/python3.6/site-packages/poliastro/twobody/propagation.py:232: UserWarning:\n",
      "\n",
      "Frame <class 'astropy.coordinates.builtin_frames.icrs.ICRS'> does not support 'obstime', time values were not returned\n",
      "\n"
     ]
    },
    {
     "data": {
      "application/vnd.jupyter.widget-view+json": {
       "model_id": "264c65fdbac0471384e2346f041b68bd",
       "version_major": 2,
       "version_minor": 0
      },
      "text/plain": [
       "FigureWidget({\n",
       "    'data': [{'hoverinfo': 'none',\n",
       "              'line': {'color': 'rgb(31, 119, 180)', 'dash':…"
      ]
     },
     "metadata": {},
     "output_type": "display_data"
    }
   ],
   "source": [
    "op=OrbitPlotter2D()\n",
    "op.plot(o_vL, label='V L')\n",
    "op.plot(o_vV, label='V V')\n",
    "op.plot(o_eL,label='E L')\n",
    "op.plot(o_eV,label='E V')\n",
    "op.plot(o_eE,label='E E')"
   ]
  },
  {
   "cell_type": "code",
   "execution_count": 154,
   "metadata": {},
   "outputs": [],
   "source": [
    "dv = -((12) ** 0.5)*(u.km/u.s) * o_eL.r / norm(o_eL.r)"
   ]
  },
  {
   "cell_type": "code",
   "execution_count": 155,
   "metadata": {},
   "outputs": [
    {
     "data": {
      "text/latex": [
       "$[1.02857,~-3.0352258,~-1.3150849] \\; \\mathrm{\\frac{km}{s}}$"
      ],
      "text/plain": [
       "<Quantity [ 1.02857005,-3.03522575,-1.3150849 ] km / s>"
      ]
     },
     "execution_count": 155,
     "metadata": {},
     "output_type": "execute_result"
    }
   ],
   "source": [
    "dv"
   ]
  },
  {
   "cell_type": "code",
   "execution_count": 152,
   "metadata": {},
   "outputs": [],
   "source": [
    "man=Maneuver.impulse(dv)\n",
    "trx_ev = o_eL.apply_maneuver(man)"
   ]
  },
  {
   "cell_type": "code",
   "execution_count": 158,
   "metadata": {},
   "outputs": [
    {
     "name": "stderr",
     "output_type": "stream",
     "text": [
      "WARNING: ErfaWarning: ERFA function \"utctai\" yielded 1 of \"dubious year (Note 3)\" [astropy._erfa.core]\n",
      "WARNING: ErfaWarning: ERFA function \"taiutc\" yielded 1 of \"dubious year (Note 4)\" [astropy._erfa.core]\n"
     ]
    }
   ],
   "source": [
    "(v_vP, v_eM), = izzo.lambert(Sun.k, o_vV.r, o_eE.r, t_arrive_Earth-t_arrive_Venus)"
   ]
  },
  {
   "cell_type": "code",
   "execution_count": 160,
   "metadata": {},
   "outputs": [
    {
     "name": "stdout",
     "output_type": "stream",
     "text": [
      "[-45.29100301  10.96180006   4.81770497] km / s\n"
     ]
    }
   ],
   "source": [
    "print(v_vP)"
   ]
  },
  {
   "cell_type": "code",
   "execution_count": 161,
   "metadata": {},
   "outputs": [],
   "source": [
    "v_v = o_vV.v"
   ]
  },
  {
   "cell_type": "code",
   "execution_count": 163,
   "metadata": {},
   "outputs": [
    {
     "name": "stdout",
     "output_type": "stream",
     "text": [
      "[-31.91254852  12.52314441   7.65378207] km / s\n"
     ]
    }
   ],
   "source": [
    "print(v_v.to(u.km/u.s))"
   ]
  },
  {
   "cell_type": "code",
   "execution_count": 164,
   "metadata": {},
   "outputs": [],
   "source": [
    "vinf_v = v_vP-v_v"
   ]
  },
  {
   "cell_type": "code",
   "execution_count": 165,
   "metadata": {},
   "outputs": [
    {
     "name": "stdout",
     "output_type": "stream",
     "text": [
      "[-13.37845449  -1.56134435  -2.8360771 ] km / s\n"
     ]
    }
   ],
   "source": [
    "print(vinf_v)"
   ]
  },
  {
   "cell_type": "code",
   "execution_count": 173,
   "metadata": {},
   "outputs": [
    {
     "name": "stdout",
     "output_type": "stream",
     "text": [
      "35.125777985619706 km / s\n"
     ]
    }
   ],
   "source": [
    "print(norm(v_v.to(u.km/u.s)))"
   ]
  },
  {
   "cell_type": "code",
   "execution_count": 170,
   "metadata": {},
   "outputs": [
    {
     "name": "stdout",
     "output_type": "stream",
     "text": [
      "13.764598574990764 km / s\n"
     ]
    }
   ],
   "source": [
    "print(norm(vinf_v))"
   ]
  },
  {
   "cell_type": "code",
   "execution_count": 175,
   "metadata": {},
   "outputs": [
    {
     "data": {
      "text/latex": [
       "$0.72509758 \\; \\mathrm{AU}$"
      ],
      "text/plain": [
       "<Quantity 0.7250975803232249 AU>"
      ]
     },
     "execution_count": 175,
     "metadata": {},
     "output_type": "execute_result"
    }
   ],
   "source": [
    "norm(o_vV.r.to(u.AU))"
   ]
  },
  {
   "cell_type": "code",
   "execution_count": null,
   "metadata": {},
   "outputs": [],
   "source": []
  },
  {
   "cell_type": "code",
   "execution_count": null,
   "metadata": {},
   "outputs": [],
   "source": []
  },
  {
   "cell_type": "code",
   "execution_count": null,
   "metadata": {},
   "outputs": [],
   "source": []
  },
  {
   "cell_type": "code",
   "execution_count": null,
   "metadata": {},
   "outputs": [],
   "source": []
  },
  {
   "cell_type": "code",
   "execution_count": null,
   "metadata": {},
   "outputs": [],
   "source": []
  },
  {
   "cell_type": "code",
   "execution_count": null,
   "metadata": {},
   "outputs": [],
   "source": []
  },
  {
   "cell_type": "code",
   "execution_count": null,
   "metadata": {},
   "outputs": [],
   "source": []
  },
  {
   "cell_type": "code",
   "execution_count": null,
   "metadata": {},
   "outputs": [],
   "source": []
  },
  {
   "cell_type": "code",
   "execution_count": null,
   "metadata": {},
   "outputs": [],
   "source": []
  },
  {
   "cell_type": "code",
   "execution_count": 156,
   "metadata": {},
   "outputs": [
    {
     "name": "stderr",
     "output_type": "stream",
     "text": [
      "/Users/Devansh/anaconda3/lib/python3.6/site-packages/poliastro/twobody/propagation.py:232: UserWarning:\n",
      "\n",
      "Frame <class 'astropy.coordinates.builtin_frames.icrs.ICRS'> does not support 'obstime', time values were not returned\n",
      "\n"
     ]
    },
    {
     "data": {
      "application/vnd.jupyter.widget-view+json": {
       "model_id": "d6d591965ef74b1898e9dc74d1591222",
       "version_major": 2,
       "version_minor": 0
      },
      "text/plain": [
       "FigureWidget({\n",
       "    'data': [{'hoverinfo': 'none',\n",
       "              'line': {'color': 'rgb(31, 119, 180)', 'dash':…"
      ]
     },
     "metadata": {},
     "output_type": "display_data"
    }
   ],
   "source": [
    "op=OrbitPlotter2D()\n",
    "op.plot(o_vV, label='V V')\n",
    "op.plot(o_eL,label='E L')\n",
    "op.plot(o_eE,label='E E')\n",
    "op.plot(trx_ev)"
   ]
  },
  {
   "cell_type": "code",
   "execution_count": 189,
   "metadata": {},
   "outputs": [
    {
     "name": "stderr",
     "output_type": "stream",
     "text": [
      "WARNING: ErfaWarning: ERFA function \"dtf2d\" yielded 1 of \"dubious year (Note 6)\" [astropy._erfa.core]\n",
      "WARNING: ErfaWarning: ERFA function \"utctai\" yielded 1 of \"dubious year (Note 3)\" [astropy._erfa.core]\n",
      "WARNING: ErfaWarning: ERFA function \"taiutc\" yielded 1 of \"dubious year (Note 4)\" [astropy._erfa.core]\n",
      "/Users/Devansh/anaconda3/lib/python3.6/site-packages/poliastro/twobody/orbit.py:389: TimeScaleWarning:\n",
      "\n",
      "Input time was converted to scale='tdb' with value 2041-02-27 00:01:09.185. Use Time(..., scale='tdb') instead.\n",
      "\n",
      "/Users/Devansh/anaconda3/lib/python3.6/site-packages/poliastro/twobody/propagation.py:232: UserWarning:\n",
      "\n",
      "Frame <class 'astropy.coordinates.builtin_frames.icrs.ICRS'> does not support 'obstime', time values were not returned\n",
      "\n"
     ]
    },
    {
     "name": "stdout",
     "output_type": "stream",
     "text": [
      "95.39508216927379 deg\n"
     ]
    },
    {
     "data": {
      "application/vnd.jupyter.widget-view+json": {
       "model_id": "d650866514cd4a7dbabb26545e9a771f",
       "version_major": 2,
       "version_minor": 0
      },
      "text/plain": [
       "FigureWidget({\n",
       "    'data': [{'hoverinfo': 'none',\n",
       "              'line': {'color': 'rgb(31, 119, 180)', 'dash':…"
      ]
     },
     "metadata": {},
     "output_type": "display_data"
    }
   ],
   "source": [
    "t_arrive_Venus = Time(\"2041-01-08\",scale=\"tdb\")\n",
    "t_arrive_Earth = Time(\"2041-02-27\")\n",
    "t_launch = t_arrive_Venus-2.4*u.year\n",
    "o_vL = Orbit.from_body_ephem(Venus,t_launch)\n",
    "o_vV = Orbit.from_body_ephem(Venus,t_arrive_Venus)\n",
    "o_eL = Orbit.from_body_ephem(Earth,t_launch)\n",
    "o_eV = Orbit.from_body_ephem(Earth,t_arrive_Venus)\n",
    "o_eE = Orbit.from_body_ephem(Earth,t_arrive_Earth)\n",
    "print(((o_vV.nu + o_vV.argp)-(o_eL.nu + o_eL.argp)+10*360*u.deg).to(u.deg)%(360*u.deg))\n",
    "op=OrbitPlotter2D()\n",
    "op.plot(o_eL)\n",
    "op.plot(o_vV)\n"
   ]
  },
  {
   "cell_type": "code",
   "execution_count": null,
   "metadata": {},
   "outputs": [],
   "source": [
    "man = Maneuver()"
   ]
  },
  {
   "cell_type": "code",
   "execution_count": 141,
   "metadata": {},
   "outputs": [
    {
     "data": {
      "text/plain": [
       "1 x 1 AU x 23.4 deg (ICRS) orbit around Sun (☉) at epoch 2039-01-08 12:00 (TDB)"
      ]
     },
     "execution_count": 141,
     "metadata": {},
     "output_type": "execute_result"
    }
   ],
   "source": [
    "o_eL"
   ]
  },
  {
   "cell_type": "code",
   "execution_count": null,
   "metadata": {},
   "outputs": [],
   "source": []
  },
  {
   "cell_type": "code",
   "execution_count": null,
   "metadata": {},
   "outputs": [],
   "source": []
  },
  {
   "cell_type": "code",
   "execution_count": null,
   "metadata": {},
   "outputs": [],
   "source": []
  },
  {
   "cell_type": "code",
   "execution_count": null,
   "metadata": {},
   "outputs": [],
   "source": []
  },
  {
   "cell_type": "code",
   "execution_count": 178,
   "metadata": {},
   "outputs": [
    {
     "data": {
      "text/latex": [
       "$52.939246 \\; \\mathrm{{}^{\\circ}}$"
      ],
      "text/plain": [
       "<Quantity 52.939245889445104 deg>"
      ]
     },
     "execution_count": 178,
     "metadata": {},
     "output_type": "execute_result"
    }
   ],
   "source": [
    "np.arccos((np.dot(o_eL.r,o_vV.r)*u.km*u.km)/(norm(o_eL.r)*norm(o_vV.r))).to(u.deg)"
   ]
  },
  {
   "cell_type": "code",
   "execution_count": 92,
   "metadata": {},
   "outputs": [
    {
     "data": {
      "text/latex": [
       "$[-0.29862861,~0.85390813,~0.37022407] \\; \\mathrm{AU}$"
      ],
      "text/plain": [
       "<Quantity [-0.29862861, 0.85390813, 0.37022407] AU>"
      ]
     },
     "execution_count": 92,
     "metadata": {},
     "output_type": "execute_result"
    }
   ],
   "source": [
    "o_e.r.to(u.AU)"
   ]
  },
  {
   "cell_type": "code",
   "execution_count": 94,
   "metadata": {},
   "outputs": [
    {
     "data": {
      "text/latex": [
       "$[0.30910452,~0.60516333,~0.25297873] \\; \\mathrm{AU}$"
      ],
      "text/plain": [
       "<Quantity [ 0.30910452, 0.60516333, 0.25297873] AU>"
      ]
     },
     "execution_count": 94,
     "metadata": {},
     "output_type": "execute_result"
    }
   ],
   "source": [
    "o_v.r.to(u.AU)"
   ]
  },
  {
   "cell_type": "code",
   "execution_count": 84,
   "metadata": {},
   "outputs": [
    {
     "data": {
      "text/plain": [
       "243.27931999999998"
      ]
     },
     "execution_count": 84,
     "metadata": {},
     "output_type": "execute_result"
    }
   ],
   "source": [
    "360-116.72068# 1.8 years"
   ]
  },
  {
   "cell_type": "code",
   "execution_count": 48,
   "metadata": {},
   "outputs": [
    {
     "data": {
      "text/plain": [
       "354.7515311"
      ]
     },
     "execution_count": 48,
     "metadata": {},
     "output_type": "execute_result"
    }
   ],
   "source": [
    "360-5.2484689 #0.1 year"
   ]
  },
  {
   "cell_type": "code",
   "execution_count": 76,
   "metadata": {},
   "outputs": [
    {
     "data": {
      "text/latex": [
       "$354.75153 \\; \\mathrm{{}^{\\circ}}$"
      ],
      "text/plain": [
       "<Quantity 354.7515311403722 deg>"
      ]
     },
     "execution_count": 76,
     "metadata": {},
     "output_type": "execute_result"
    }
   ],
   "source": [
    "360*u.deg-np.arccos((np.dot(o_e.r,o_v.r)*u.km*u.km)/(norm(o_e.r)*norm(o_v.r))).to(u.deg)"
   ]
  },
  {
   "cell_type": "code",
   "execution_count": null,
   "metadata": {},
   "outputs": [],
   "source": [
    "317.65172# 0 years\n",
    "354.75153 #0.1 years\n"
   ]
  },
  {
   "cell_type": "code",
   "execution_count": 77,
   "metadata": {},
   "outputs": [
    {
     "data": {
      "text/plain": [
       "370.9980999999999"
      ]
     },
     "execution_count": 77,
     "metadata": {},
     "output_type": "execute_result"
    }
   ],
   "source": [
    "(354.75153-317.65172)/0.1 #degrees per year"
   ]
  },
  {
   "cell_type": "code",
   "execution_count": null,
   "metadata": {},
   "outputs": [],
   "source": []
  },
  {
   "cell_type": "code",
   "execution_count": null,
   "metadata": {},
   "outputs": [],
   "source": []
  },
  {
   "cell_type": "code",
   "execution_count": null,
   "metadata": {},
   "outputs": [],
   "source": []
  },
  {
   "cell_type": "code",
   "execution_count": null,
   "metadata": {},
   "outputs": [],
   "source": []
  }
 ],
 "metadata": {
  "kernelspec": {
   "display_name": "Python 3",
   "language": "python",
   "name": "python3"
  },
  "language_info": {
   "codemirror_mode": {
    "name": "ipython",
    "version": 3
   },
   "file_extension": ".py",
   "mimetype": "text/x-python",
   "name": "python",
   "nbconvert_exporter": "python",
   "pygments_lexer": "ipython3",
   "version": "3.6.7"
  }
 },
 "nbformat": 4,
 "nbformat_minor": 2
}
