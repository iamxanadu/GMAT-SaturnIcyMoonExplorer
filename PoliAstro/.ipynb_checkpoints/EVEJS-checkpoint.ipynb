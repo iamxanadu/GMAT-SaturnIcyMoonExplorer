{
 "cells": [
  {
   "cell_type": "code",
   "execution_count": 1,
   "metadata": {},
   "outputs": [
    {
     "data": {
      "text/plain": [
       "<ScienceState solar_system_ephemeris: 'jpl'>"
      ]
     },
     "execution_count": 1,
     "metadata": {},
     "output_type": "execute_result"
    }
   ],
   "source": [
    "import numpy as np\n",
    "import math\n",
    "\n",
    "import astropy.units as u\n",
    "from astropy.time import Time\n",
    "from astropy.coordinates import solar_system_ephemeris\n",
    "\n",
    "from poliastro.bodies import Sun,Venus, Earth, Jupiter, Saturn\n",
    "from poliastro.threebody import flybys\n",
    "from poliastro.twobody import Orbit\n",
    "from poliastro.maneuver import Maneuver\n",
    "from poliastro.iod import izzo\n",
    "from poliastro.plotting import OrbitPlotter2D\n",
    "from poliastro.util import norm\n",
    "import poliastro.twobody.propagation as Propagation\n",
    "\n",
    "from scipy import optimize as opt\n",
    " \n",
    "solar_system_ephemeris.set(\"jpl\")"
   ]
  },
  {
   "cell_type": "code",
   "execution_count": 2,
   "metadata": {},
   "outputs": [],
   "source": [
    "#tvectors [arrival after 2020, route transits in reverse]"
   ]
  },
  {
   "cell_type": "code",
   "execution_count": 3,
   "metadata": {},
   "outputs": [],
   "source": [
    "route = [Saturn, Jupiter, Earth]"
   ]
  },
  {
   "cell_type": "code",
   "execution_count": 122,
   "metadata": {},
   "outputs": [],
   "source": [
    "#calculator\n",
    "def trajectory_calculator(t, route):\n",
    "    \n",
    "    if len(t) is not len(route):\n",
    "        disp('len of t is not len of route')\n",
    "        return\n",
    "    \n",
    "    sol=dict();\n",
    "        \n",
    "    t=[ti*u.year for ti in t];\n",
    "    t_arrive = Time(\"2020-01-01\", scale=\"utc\")+t[0];\n",
    "    \n",
    "    \n",
    "    #create flyby dates\n",
    "    t_event=[t_arrive]\n",
    "    for i in range(len(t)-1):\n",
    "        t_event.append(t_event[i]-t[i+1])\n",
    "        \n",
    "    sol[\"events\"] = t_event\n",
    "    \n",
    "    #create planet orbits\n",
    "    o_planets=[];\n",
    "    for i in range(len(route)):\n",
    "        o_planets.append(Orbit.from_body_ephem(route[i],t_event[i]));\n",
    "            \n",
    "    sol[\"planet_orbits\"] = o_planets\n",
    "    \n",
    "\n",
    "    \n",
    "    #determine transfer velocities\n",
    "    v_outs=[]\n",
    "    v_ins =[]\n",
    "    \n",
    "    for i in range(len(route)-1):\n",
    "        \n",
    "        o_out = o_planets[i+1]\n",
    "        o_in  = o_planets[i];\n",
    "        \n",
    "        (v_out, v_in), = izzo.lambert(Sun.k, o_out.r, o_in.r,t[i+1])\n",
    "        \n",
    "        v_outs.append(v_out);\n",
    "        v_ins.append(v_in)\n",
    "    \n",
    "    #calculate transfer trajectories\n",
    "    o_transfer=[]\n",
    "    for i in range(len(route)-1):\n",
    "        o_transfer.append(Orbit.from_vectors(Sun,o_planets[i+1].r, v_outs[i]))\n",
    "    \n",
    "    sol[\"transfer_orbits\"] = o_transfer;\n",
    "    #calculate deltav\n",
    "    \n",
    "    return sol\n",
    "    "
   ]
  },
  {
   "cell_type": "code",
   "execution_count": 123,
   "metadata": {},
   "outputs": [],
   "source": [
    "tguess = [10,2,1.5,2,1.2]\n",
    "route = [Saturn, Jupiter,Earth, Venus,Earth]"
   ]
  },
  {
   "cell_type": "code",
   "execution_count": 124,
   "metadata": {},
   "outputs": [
    {
     "name": "stderr",
     "output_type": "stream",
     "text": [
      "WARNING: ErfaWarning: ERFA function \"taiutc\" yielded 1 of \"dubious year (Note 4)\" [astropy._erfa.core]\n",
      "WARNING: ErfaWarning: ERFA function \"utctai\" yielded 1 of \"dubious year (Note 3)\" [astropy._erfa.core]\n",
      "/Users/Devansh/anaconda3/lib/python3.6/site-packages/poliastro/twobody/orbit.py:389: TimeScaleWarning:\n",
      "\n",
      "Input time was converted to scale='tdb' with value 2029-12-31 12:01:09.184. Use Time(..., scale='tdb') instead.\n",
      "\n",
      "/Users/Devansh/anaconda3/lib/python3.6/site-packages/poliastro/twobody/orbit.py:389: TimeScaleWarning:\n",
      "\n",
      "Input time was converted to scale='tdb' with value 2028-01-01 00:01:09.184. Use Time(..., scale='tdb') instead.\n",
      "\n",
      "/Users/Devansh/anaconda3/lib/python3.6/site-packages/poliastro/twobody/orbit.py:389: TimeScaleWarning:\n",
      "\n",
      "Input time was converted to scale='tdb' with value 2026-07-02 03:01:09.184. Use Time(..., scale='tdb') instead.\n",
      "\n",
      "/Users/Devansh/anaconda3/lib/python3.6/site-packages/poliastro/twobody/orbit.py:389: TimeScaleWarning:\n",
      "\n",
      "Input time was converted to scale='tdb' with value 2024-07-01 15:01:09.184. Use Time(..., scale='tdb') instead.\n",
      "\n",
      "/Users/Devansh/anaconda3/lib/python3.6/site-packages/poliastro/twobody/orbit.py:389: TimeScaleWarning:\n",
      "\n",
      "Input time was converted to scale='tdb' with value 2023-04-20 07:49:09.186. Use Time(..., scale='tdb') instead.\n",
      "\n"
     ]
    }
   ],
   "source": [
    "solution=trajectory_calculator(tguess,route)"
   ]
  },
  {
   "cell_type": "code",
   "execution_count": null,
   "metadata": {},
   "outputs": [],
   "source": []
  },
  {
   "cell_type": "code",
   "execution_count": 125,
   "metadata": {},
   "outputs": [
    {
     "name": "stderr",
     "output_type": "stream",
     "text": [
      "WARNING: ErfaWarning: ERFA function \"d2dtf\" yielded 1 of \"dubious year (Note 5)\" [astropy._erfa.core]\n"
     ]
    },
    {
     "data": {
      "text/plain": [
       "[<Time object: scale='utc' format='iso' value=2029-12-31 12:00:00.000>,\n",
       " <Time object: scale='utc' format='iso' value=2028-01-01 00:00:00.000>,\n",
       " <Time object: scale='utc' format='iso' value=2026-07-02 03:00:00.000>,\n",
       " <Time object: scale='utc' format='iso' value=2024-07-01 15:00:00.000>,\n",
       " <Time object: scale='utc' format='iso' value=2023-04-20 07:48:00.000>]"
      ]
     },
     "execution_count": 125,
     "metadata": {},
     "output_type": "execute_result"
    }
   ],
   "source": [
    "solution[\"events\"]"
   ]
  },
  {
   "cell_type": "code",
   "execution_count": 126,
   "metadata": {},
   "outputs": [
    {
     "data": {
      "text/plain": [
       "[9 x 10 AU x 22.6 deg (ICRS) orbit around Sun (☉) at epoch 2029-12-31 12:01:09.184 (TDB),\n",
       " 5 x 5 AU x 23.2 deg (ICRS) orbit around Sun (☉) at epoch 2028-01-01 00:01:09.184 (TDB),\n",
       " 1 x 1 AU x 23.4 deg (ICRS) orbit around Sun (☉) at epoch 2026-07-02 03:01:09.184 (TDB),\n",
       " 1 x 1 AU x 24.4 deg (ICRS) orbit around Sun (☉) at epoch 2024-07-01 15:01:09.184 (TDB),\n",
       " 1 x 1 AU x 23.4 deg (ICRS) orbit around Sun (☉) at epoch 2023-04-20 07:49:09.186 (TDB)]"
      ]
     },
     "execution_count": 126,
     "metadata": {},
     "output_type": "execute_result"
    }
   ],
   "source": [
    "solution[\"planet_orbits\"]"
   ]
  },
  {
   "cell_type": "code",
   "execution_count": null,
   "metadata": {},
   "outputs": [],
   "source": []
  },
  {
   "cell_type": "code",
   "execution_count": 115,
   "metadata": {},
   "outputs": [],
   "source": [
    "op = OrbitPlotter2D();"
   ]
  },
  {
   "cell_type": "code",
   "execution_count": 116,
   "metadata": {},
   "outputs": [
    {
     "name": "stderr",
     "output_type": "stream",
     "text": [
      "/Users/Devansh/anaconda3/lib/python3.6/site-packages/poliastro/twobody/propagation.py:232: UserWarning:\n",
      "\n",
      "Frame <class 'astropy.coordinates.builtin_frames.icrs.ICRS'> does not support 'obstime', time values were not returned\n",
      "\n"
     ]
    },
    {
     "data": {
      "application/vnd.jupyter.widget-view+json": {
       "model_id": "367ed023bc9d41898bb1c85c0c296fa7",
       "version_major": 2,
       "version_minor": 0
      },
      "text/plain": [
       "FigureWidget({\n",
       "    'data': [{'hoverinfo': 'none',\n",
       "              'line': {'color': 'rgb(31, 119, 180)', 'dash':…"
      ]
     },
     "metadata": {},
     "output_type": "display_data"
    }
   ],
   "source": [
    "op = OrbitPlotter2D();\n",
    "op.plot(solution[\"planet_orbits\"][3],label=route[4])\n",
    "op.plot(solution[\"planet_orbits\"][3],label=route[3])\n",
    "op.plot(solution[\"planet_orbits\"][2],label=route[2])\n",
    "op.plot(solution[\"planet_orbits\"][1],label=route[1])\n",
    "op.plot(solution[\"planet_orbits\"][0],label=route[0])"
   ]
  },
  {
   "cell_type": "code",
   "execution_count": null,
   "metadata": {},
   "outputs": [],
   "source": []
  }
 ],
 "metadata": {
  "kernelspec": {
   "display_name": "Python 3",
   "language": "python",
   "name": "python3"
  },
  "language_info": {
   "codemirror_mode": {
    "name": "ipython",
    "version": 3
   },
   "file_extension": ".py",
   "mimetype": "text/x-python",
   "name": "python",
   "nbconvert_exporter": "python",
   "pygments_lexer": "ipython3",
   "version": "3.6.7"
  }
 },
 "nbformat": 4,
 "nbformat_minor": 2
}
