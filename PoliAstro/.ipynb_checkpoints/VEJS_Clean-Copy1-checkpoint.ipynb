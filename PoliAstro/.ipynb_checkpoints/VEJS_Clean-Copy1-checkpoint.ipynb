{
 "cells": [
  {
   "cell_type": "code",
   "execution_count": 100,
   "metadata": {},
   "outputs": [
    {
     "data": {
      "text/plain": [
       "<ScienceState solar_system_ephemeris: 'jpl'>"
      ]
     },
     "execution_count": 100,
     "metadata": {},
     "output_type": "execute_result"
    }
   ],
   "source": [
    "import numpy as np\n",
    "import math\n",
    "\n",
    "import astropy.units as u\n",
    "from astropy.time import Time\n",
    "from astropy.coordinates import solar_system_ephemeris\n",
    "\n",
    "from poliastro.bodies import Sun,Venus, Earth, Jupiter, Saturn\n",
    "from poliastro.threebody import flybys\n",
    "from poliastro.twobody import Orbit\n",
    "from poliastro.maneuver import Maneuver\n",
    "from poliastro.iod import izzo\n",
    "from poliastro.plotting import OrbitPlotter2D\n",
    "from poliastro.util import norm\n",
    "import poliastro.twobody.propagation as Propagation\n",
    "\n",
    "from scipy import optimize as opt\n",
    " \n",
    "solar_system_ephemeris.set(\"jpl\")"
   ]
  },
  {
   "cell_type": "code",
   "execution_count": 101,
   "metadata": {},
   "outputs": [],
   "source": [
    "T = 5*30*u.day;\n",
    "a_at_saturn=((T**2*Saturn.k/(4*math.pi**2))**(1/3)).to(u.m)"
   ]
  },
  {
   "cell_type": "code",
   "execution_count": 102,
   "metadata": {},
   "outputs": [],
   "source": [
    "cassini_venus2 = Time(\"1999-06-24\")\n",
    "cassini_earth2 = Time(\"1999-08-18\")\n",
    "cassini_jupiter = Time(\"2000-12-30\")\n",
    "cassini_saturn = Time(\"2004-07-01\")\n",
    "\n",
    "#cassini transit\n",
    "cassini_js_time = cassini_saturn-cassini_jupiter\n",
    "cassini_ej_time = cassini_jupiter-cassini_earth2\n",
    "cassini_ve_time = cassini_earth2-cassini_venus2"
   ]
  },
  {
   "cell_type": "code",
   "execution_count": 103,
   "metadata": {},
   "outputs": [],
   "source": [
    "tmod=[0,0,0,0]\n",
    "plot_on=0;\n",
    "\n",
    "def trajectory_calculator(t=[0,0,0,0],plot_on=0,disp_on=0):\n",
    "    #start with cassini style assumptions\n",
    "    cassini_venus2 = Time(\"1999-06-24\")\n",
    "    cassini_earth2 = Time(\"1999-08-18\")\n",
    "    cassini_jupiter = Time(\"2000-12-30\")\n",
    "    cassini_saturn = Time(\"2004-07-01\")\n",
    "\n",
    "    #cassini transit\n",
    "    cassini_js_time = cassini_saturn-cassini_jupiter\n",
    "    cassini_ej_time = cassini_jupiter-cassini_earth2\n",
    "    cassini_ve_time = cassini_earth2-cassini_venus2\n",
    "\n",
    "\n",
    "    tmod_s  = t[0] #arrival time in saturn relative to 2020\n",
    "    tmod_js = t[1] #transit times\n",
    "    tmod_ej = t[2] \n",
    "    tmod_ve = t[3]\n",
    "\n",
    "\n",
    "    time_js = tmod_js*u.year\n",
    "    time_ej = tmod_ej*u.year\n",
    "    time_ve = tmod_ve*u.year\n",
    "\n",
    "    date_arrive_saturn = Time(\"2020-01-01\", scale=\"tdb\")+tmod_s*u.year;\n",
    "\n",
    "\n",
    "    #create target orbit\n",
    "    o_sf = Orbit.from_body_ephem(Saturn, date_arrive_saturn)\n",
    "    r_sf, v_sf = o_sf.rv()\n",
    "    #o_sf.plot()\n",
    "    if disp_on:\n",
    "        print('computed saturn')\n",
    "\n",
    "    ################## Jupiter ################## \n",
    "\n",
    "    #guess flyby date of Jupiter\n",
    "    date_flyby_jupiter = date_arrive_saturn-time_js\n",
    "\n",
    "    #construct j orbit\n",
    "    o_j = Orbit.from_body_ephem(Jupiter, date_flyby_jupiter)\n",
    "    #o_j.plot()\n",
    "\n",
    "    #compute transfer lambert trajectory\n",
    "    (v_jo, v_si), = izzo.lambert(Sun.k, o_j.r, o_sf.r, time_js)\n",
    "    trx_js = Orbit.from_vectors(Sun, o_j.r, v_jo, epoch=date_flyby_jupiter)\n",
    "    #trx_js.plot()\n",
    "    if disp_on:\n",
    "        print('computed J-S')\n",
    "    ################## Earth ################## \n",
    "    #guess flyby date of Earth\n",
    "    date_flyby_earth = date_arrive_saturn-time_js-time_ej\n",
    "\n",
    "    #construct j orbit\n",
    "    o_e2 = Orbit.from_body_ephem(Earth, date_flyby_earth)\n",
    "    #o_e2.plot()\n",
    "\n",
    "    #compute transfer lambert trajectory\n",
    "    (v_eo, v_ji), = izzo.lambert(Sun.k, o_e2.r, o_j.r, time_ej)\n",
    "    trx_ej = Orbit.from_vectors(Sun, o_e2.r, v_eo, epoch=date_flyby_earth)\n",
    "    #trx_ej.plot()\n",
    "    if disp_on:\n",
    "        print('computed E-J')                            \n",
    "\n",
    "    ################## Venus2 ################## \n",
    "    #guess flyby date of Venus2\n",
    "    date_flyby_venus2 = date_arrive_saturn-time_js-time_ej-time_ve\n",
    "\n",
    "    #construct j orbit\n",
    "    o_v2 = Orbit.from_body_ephem(Venus, date_flyby_venus2)\n",
    "    #o_v2.plot()\n",
    "\n",
    "    #compute transfer lambert trajectory\n",
    "    (v_v2o, v_ei), = izzo.lambert(Sun.k, o_v2.r, o_e2.r, time_ve)\n",
    "    trx_v2e = Orbit.from_vectors(Sun, o_v2.r, v_v2o, epoch=date_flyby_venus2)\n",
    "    #trx_v2e.plot()    \n",
    "    if disp_on:\n",
    "        print('computed V-E')                            \n",
    "\n",
    "    ################## Sum delta v ##################                             \n",
    "    delv_e = norm(v_eo-v_ei)\n",
    "    delv_j = norm(v_jo-v_ji)\n",
    "    delv_s = norm(v_si-v_sf)\n",
    "\n",
    "    total_deltav=sum([delv_e,delv_j,delv_s]) \n",
    "\n",
    "    if disp_on:\n",
    "        print('Total delta-v: ', total_deltav)\n",
    "\n",
    "    ################## Plot ##################  \n",
    "\n",
    "    if plot_on:\n",
    "        op = OrbitPlotter2D()\n",
    "\n",
    "        op.plot(o_v2,label=\"Venus2 Orbit\")\n",
    "        op.plot(o_e2,label=\"Earth2 Orbit\")\n",
    "        op.plot(o_j, label=\"Jupiter Orbit\")\n",
    "        op.plot(o_sf, label=\"Saturn Orbit\")\n",
    "\n",
    "\n",
    "        op.plot(trx_v2e, label=\"V2-E\")\n",
    "        op.plot(trx_ej, label=\"E-J\")\n",
    "        op.plot(trx_js, label=\"J-S\")\n",
    "        \n",
    "    orbits = (o_v2,o_e2,o_j,o_sf)\n",
    "    trajectories = (trx_v2e,trx_ej,trx_js)\n",
    "    deltavs = (delv_e,delv_j,delv_s)\n",
    "    times = (date_flyby_venus2,date_flyby_earth,date_flyby_jupiter,date_arrive_saturn)\n",
    "    return (total_deltav,orbits,trajectories,deltavs,times)\n",
    "\n",
    "def print_times(times):\n",
    "    print(\"Venus:   \",times[0])\n",
    "    print(\"Earth:   \",times[1])\n",
    "    print(\"Jupiter: \",times[2])\n",
    "    print(\"Saturn:  \",times[3])\n",
    "    print(\"**\")\n",
    "    print(\"V-E: \", (times[1]-times[0]).to(u.year))\n",
    "    print(\"E-J: \", (times[2]-times[1]).to(u.year))\n",
    "    print(\"J-S: \", (times[3]-times[2]).to(u.year))\n",
    "        \n",
    "\n"
   ]
  },
  {
   "cell_type": "code",
   "execution_count": 104,
   "metadata": {},
   "outputs": [
    {
     "name": "stdout",
     "output_type": "stream",
     "text": [
      "computed saturn\n",
      "computed J-S\n",
      "computed E-J\n",
      "computed V-E\n",
      "Total delta-v:  82.09823281566118 km / s\n"
     ]
    }
   ],
   "source": [
    "t_guess_cassini = [27,cassini_js_time.to(u.year).value,cassini_ej_time.to(u.year).value,cassini_ve_time.to(u.year).value]\n",
    "sol=trajectory_calculator(t=t_guess_cassini,plot_on=0,disp_on=1)"
   ]
  },
  {
   "cell_type": "code",
   "execution_count": 105,
   "metadata": {},
   "outputs": [
    {
     "name": "stdout",
     "output_type": "stream",
     "text": [
      "computed saturn\n",
      "computed J-S\n",
      "computed E-J\n",
      "computed V-E\n",
      "Total delta-v:  6.010065391517322 km / s\n"
     ]
    }
   ],
   "source": [
    "###############VERY GOOD SOLUTION############\n",
    "tverygood = [27.238877,4.798,1.2879,0.1313]\n",
    "sol=trajectory_calculator(t=tverygood,plot_on=0,disp_on=1)"
   ]
  },
  {
   "cell_type": "code",
   "execution_count": 106,
   "metadata": {},
   "outputs": [
    {
     "data": {
      "text/plain": [
       "<TimeDelta object: scale='tdb' format='jd' value=2351.4887274686907>"
      ]
     },
     "execution_count": 106,
     "metadata": {},
     "output_type": "execute_result"
    }
   ],
   "source": [
    "tdept+t_ve+t_ej+t_js"
   ]
  },
  {
   "cell_type": "code",
   "execution_count": 113,
   "metadata": {},
   "outputs": [],
   "source": [
    "t_guess_cassini = [-15.5,cassini_js_time.to(u.year).value,cassini_ej_time.to(u.year).value,cassini_ve_time.to(u.year).value]\n",
    "\n",
    "t_guess_online_traj_tool = [20, 7.93, 2.19,0.15]\n",
    "t_guess_online_traj_tool = [12, 2, 2,0.15]\n",
    "\n",
    "\n",
    "#t_guess = opt_sol.x\n",
    "\n",
    "t_guess=tverygood\n",
    "\n",
    "tdept = 26;\n",
    "t_ve  = 28/365;\n",
    "t_ej  = 491/365;\n",
    "t_js  = 1304/365\n",
    "\n",
    "t_guess = [tdept+t_ve+t_ej+t_js, t_js, t_ej, t_ve]\n",
    "\n",
    "t_guess=tverygood\n",
    "\n",
    "\n",
    "\n",
    "#t_guess=t_guess_online_traj_tool\n",
    "\n",
    "bounds = ((10,40),(2,10),(0.5,3),(0.01,1))\n",
    "#bounds = ((30,36),(None,None),(None,None),(None, None))\n",
    "\n",
    "options = {'maxiter': 50,'disp': False}\n",
    "\n",
    "def calc_max_deltav(v_inf,qratio=10, body=Earth):\n",
    "    return 2*v_inf*(1+((v_inf)**2*(qratio*body.R)/(body.k)).to(u.m/u.m))**-1\n",
    "\n",
    "def saturn_deltav_calculator(tmod):\n",
    "    print(tmod)\n",
    "    sol=trajectory_calculator(tmod,plot_on=0,disp_on=0)\n",
    "    print(sol[3])\n",
    "\n",
    "    return sol[3][2].to(u.km/u.s).value\n",
    "\n",
    "\n",
    "def weighted_detlav_calculator(tmod):\n",
    "    #print(tmod)\n",
    "    sol=trajectory_calculator(tmod,plot_on=0,disp_on=0)\n",
    "    \n",
    "    #determine venus vinf\n",
    "    \n",
    "    o_v = sol[1][0]\n",
    "    o_e = sol[1][1]\n",
    "    o_j = sol[1][2]\n",
    "    o_s = sol[1][3]\n",
    "\n",
    "\n",
    "    trx_ve = sol[2][0]\n",
    "    trx_ej = sol[2][1]\n",
    "    trx_js = sol[2][2]\n",
    "\n",
    "    vinf_v = norm(trx_ve.v-o_v.v).to(u.km/u.s)\n",
    "    vinf_e = norm(trx_ej.v-o_e.v).to(u.km/u.s)\n",
    "    vinf_j = norm(trx_js.v-o_j.v).to(u.km/u.s)\n",
    "\n",
    "    q_min_v = Venus.R   +  500*u.km;\n",
    "    q_min_e = Earth.R   + 1500*u.km;\n",
    "    q_min_j = Jupiter.R + 1500*u.km;\n",
    "\n",
    "    maxdv_v = 2*vinf_v/(1+vinf_v**2*q_min_v/Venus.k)\n",
    "    maxdv_e = 2*vinf_e/(1+vinf_e**2*q_min_e/Earth.k)\n",
    "    maxdv_j = 2*vinf_j/(1+vinf_v**2*q_min_j/Jupiter.k)\n",
    "    \n",
    "    \n",
    "    return 0.5*vinf_v.to(u.km/u.s).value + 0*sol[3][0].to(u.km/u.s).value + 0*sol[3][1].to(u.km/u.s).value + 20*sol[3][2].to(u.km/u.s).value\n",
    "\n",
    "def earthflybyConstraint(ts):\n",
    "    sol=trajectory_calculator(ts,plot_on=0,disp_on=0)\n",
    "    \n",
    "    o_v = sol[1][0]\n",
    "    o_e = sol[1][1]\n",
    "    o_j = sol[1][2]\n",
    "    o_s = sol[1][3]\n",
    "\n",
    "    trx_ej = sol[2][1]    \n",
    "    \n",
    "    deltav_e = sol[3][0]\n",
    "    \n",
    "    vinf_e = norm(trx_ej.v-o_e.v).to(u.km/u.s)\n",
    "\n",
    "    q_min_e = Earth.R   + 1500*u.km;\n",
    "    \n",
    "    maxdv_e = 2*vinf_e/(1+vinf_e**2*q_min_e/Earth.k)\n",
    "    \n",
    "    return maxdv_e-1.05*deltav_e\n",
    "\n",
    "def jupiterflybyConstraint(ts):\n",
    "    sol=trajectory_calculator(ts,plot_on=0,disp_on=0)\n",
    "    \n",
    "    o_v = sol[1][0]\n",
    "    o_e = sol[1][1]\n",
    "    o_j = sol[1][2]\n",
    "    o_s = sol[1][3]\n",
    "\n",
    "\n",
    "    trx_ve = sol[2][0]\n",
    "    trx_ej = sol[2][1]\n",
    "    trx_js = sol[2][2]\n",
    "    \n",
    "    deltav_j = sol[3][1]\n",
    "    \n",
    "    vinf_j = norm(trx_js.v-o_j.v).to(u.km/u.s)\n",
    "\n",
    "    q_min_j = Jupiter.R + 1500*u.km;\n",
    "\n",
    "    maxdv_j = 2*vinf_j/(1+vinf_v**2*q_min_j/Jupiter.k)\n",
    "    \n",
    "    return maxdv_j-1.05*deltav_j\n",
    "    \n",
    "earth_constraint ={'type':'ineq','fun':earthflybyConstraint}\n",
    "jupiter_constraint ={'type':'ineq','fun':jupiterflybyConstraint}\n",
    "\n",
    "constraints = (earth_constraint,jupiter_constraint)\n",
    "\n",
    "opt_sol = opt.minimize(weighted_detlav_calculator,x0=t_guess,options=options,bounds=bounds,constraints=constraints);"
   ]
  },
  {
   "cell_type": "code",
   "execution_count": 114,
   "metadata": {},
   "outputs": [
    {
     "data": {
      "text/plain": [
       "[27.238877, 4.798, 1.2879, 0.1313]"
      ]
     },
     "execution_count": 114,
     "metadata": {},
     "output_type": "execute_result"
    }
   ],
   "source": [
    "t_guess\n",
    "\n"
   ]
  },
  {
   "cell_type": "code",
   "execution_count": 115,
   "metadata": {
    "scrolled": false
   },
   "outputs": [
    {
     "name": "stdout",
     "output_type": "stream",
     "text": [
      "computed saturn\n",
      "computed J-S\n",
      "computed E-J\n",
      "computed V-E\n",
      "Total delta-v:  26.983645869235524 km / s\n",
      "     fun: 131.2527356786537\n",
      "     jac: array([ 25.23103905, -30.11725807,   5.47880173,  14.30389404])\n",
      " message: 'Iteration limit exceeded'\n",
      "    nfev: 420\n",
      "     nit: 51\n",
      "    njev: 51\n",
      "  status: 9\n",
      " success: False\n",
      "       x: array([ 33.33727477,   9.45856491,   3.        ,   0.96024862])\n",
      "\n",
      "Total deltav:  26.983645869235524 km / s\n",
      "Delta vs:  [7.932077534106702, 12.63807156962857, 6.413496765500252]\n",
      "\n",
      "vinf_v =  5.965600737297298 km / s\n",
      "vinf_e =  12.955500988024946 km / s\n",
      "vinf_j =  13.006624905173531 km / s\n",
      "maxdv_v:  6.945821534030553 km / s\n",
      "maxdv_e:  6.001568291066009 km / s\n",
      "maxdv_j:  25.490679555959336 km / s\n",
      "dv_v: \n",
      "dv_e:  7.932077534106702 km / s\n",
      "dv_j:  12.63807156962857 km / s\n",
      "\n",
      "errors:\n",
      "cant flyby earth\n",
      "cant slow down saturn\n",
      "\n",
      "Times:\n",
      "Venus:    2039-12-02 05:13:52.507\n",
      "Earth:    2040-11-16 22:46:14.245\n",
      "Jupiter:  2043-11-17 16:46:14.245\n",
      "Saturn:   2053-05-03 10:33:02.226\n",
      "**\n",
      "V-E:  0.9602486164395613 yr\n",
      "E-J:  2.9999999999999183 yr\n",
      "J-S:  9.458564909293823 yr\n",
      "\n"
     ]
    }
   ],
   "source": [
    "sol = trajectory_calculator(t=opt_sol.x,plot_on=0,disp_on=1)\n",
    "\n",
    "print(opt_sol)\n",
    "\n",
    "#sol = trajectory_calculator([ 21.82450945,   9.33104326,   2.39418937,   0.2])\n",
    "\n",
    "#print(\"Tmod: \",opt_sol.x)\n",
    "print()\n",
    "print(\"Total deltav: \", sol[0])\n",
    "print(\"Delta vs: \",[x.value for x in sol[3]])\n",
    "print()\n",
    "\n",
    "\n",
    "\n",
    "t_ve=sol[4][1]-sol[4][0]\n",
    "t_ej=sol[4][2]-sol[4][1]\n",
    "t_js=sol[4][3]-sol[4][2]\n",
    "\n",
    "o_v = sol[1][0]\n",
    "o_e = sol[1][1]\n",
    "o_j = sol[1][2]\n",
    "o_s = sol[1][3]\n",
    "\n",
    "\n",
    "trx_ve = sol[2][0]\n",
    "trx_ej = sol[2][1]\n",
    "trx_js = sol[2][2]\n",
    "\n",
    "\n",
    "trx_ve_half = trx_ve.propagate(t_ve/2)\n",
    "trx_ej_half = trx_ej.propagate(t_ej/2)\n",
    "trx_js_half = trx_js.propagate(t_js/2)\n",
    "\n",
    "vinf_v = norm(trx_ve.v-o_v.v).to(u.km/u.s)\n",
    "vinf_e = norm(trx_ej.v-o_e.v).to(u.km/u.s)\n",
    "vinf_j = norm(trx_js.v-o_j.v).to(u.km/u.s)\n",
    "\n",
    "print('vinf_v = ',vinf_v)\n",
    "print('vinf_e = ',vinf_e)\n",
    "print('vinf_j = ',vinf_j)\n",
    "\n",
    "q_min_v = Venus.R   + 500*u.km;\n",
    "q_min_e = Earth.R   + 1500*u.km;\n",
    "q_min_j = Jupiter.R + 1500*u.km;\n",
    "\n",
    "maxdv_v = 2*vinf_v/(1+vinf_v**2*q_min_v/Venus.k)\n",
    "maxdv_e = 2*vinf_e/(1+vinf_e**2*q_min_e/Earth.k)\n",
    "maxdv_j = 2*vinf_j/(1+vinf_v**2*q_min_j/Jupiter.k)\n",
    "\n",
    "print('maxdv_v: ', maxdv_v)\n",
    "print('maxdv_e: ', maxdv_e)\n",
    "print('maxdv_j: ', maxdv_j)\n",
    "\n",
    "print('dv_v: ')\n",
    "print('dv_e: ', sol[3][0] )\n",
    "print('dv_j: ', sol[3][1] )\n",
    "\n",
    "print()\n",
    "print('errors:')\n",
    "\n",
    "if sol[3][0] > maxdv_e:\n",
    "    print('cant flyby earth')\n",
    "if sol[3][1] > maxdv_j:\n",
    "    print('cant flyby jupiter')\n",
    "if sol[3][2] > 700*u.m/u.s:\n",
    "    print('cant slow down saturn')\n",
    "\n",
    "print()\n",
    "\n",
    "print('Times:')\n",
    "print_times(sol[4])\n",
    "print()\n",
    "\n"
   ]
  },
  {
   "cell_type": "code",
   "execution_count": 116,
   "metadata": {},
   "outputs": [
    {
     "data": {
      "text/latex": [
       "$35.305861 \\; \\mathrm{\\frac{km}{s}}$"
      ],
      "text/plain": [
       "<Quantity 35.30586130348662 km / s>"
      ]
     },
     "execution_count": 116,
     "metadata": {},
     "output_type": "execute_result"
    }
   ],
   "source": [
    "((Sun.k/norm(o_v.r))**0.5).to(u.km/u.s)"
   ]
  },
  {
   "cell_type": "code",
   "execution_count": 117,
   "metadata": {},
   "outputs": [
    {
     "name": "stderr",
     "output_type": "stream",
     "text": [
      "/Users/Devansh/anaconda3/lib/python3.6/site-packages/poliastro/twobody/propagation.py:232: UserWarning:\n",
      "\n",
      "Frame <class 'astropy.coordinates.builtin_frames.icrs.ICRS'> does not support 'obstime', time values were not returned\n",
      "\n"
     ]
    },
    {
     "data": {
      "application/vnd.jupyter.widget-view+json": {
       "model_id": "23b5de60c63442ddb531f98ddc7c3b21",
       "version_major": 2,
       "version_minor": 0
      },
      "text/plain": [
       "FigureWidget({\n",
       "    'data': [{'hoverinfo': 'none',\n",
       "              'line': {'color': 'rgb(31, 119, 180)', 'dash':…"
      ]
     },
     "metadata": {},
     "output_type": "display_data"
    }
   ],
   "source": [
    "op=OrbitPlotter2D()\n",
    "op.plot(sol[1][0],label='V')\n",
    "op.plot(sol[1][1],label='E')\n",
    "op.plot(sol[1][2],label='J')\n",
    "op.plot(sol[1][3],label='S')\n",
    "op.plot(trx_ve_half,label='VE')\n",
    "op.plot(trx_ej_half,label='EJ')\n",
    "op.plot(trx_js_half,label='JS')"
   ]
  },
  {
   "cell_type": "code",
   "execution_count": 112,
   "metadata": {},
   "outputs": [
    {
     "name": "stdout",
     "output_type": "stream",
     "text": [
      "frame:  <HCRS Frame (obstime=2039-08-22 02:47)>\n",
      "epoch: 2039-08-22 02:47\n",
      "GMAT ELDER.Epoch = 36023.11628219286 ;\n",
      "GMAT ELDER.SMA =   64928648.95022566 ;\n",
      "GMAT ELDER.ECC =   0.5689143264690201 ;\n",
      "GMAT ELDER.INC =   28.375300474782794 ;\n",
      "GMAT ELDER.RAAN =  3.1513416762312056 ;\n",
      "GMAT ELDER.AOP =   197.641087752633 ;\n",
      "GMAT ELDER.TA =    136.0488107687012 ;\n"
     ]
    },
    {
     "name": "stderr",
     "output_type": "stream",
     "text": [
      "WARNING: ErfaWarning: ERFA function \"dtf2d\" yielded 1 of \"dubious year (Note 6)\" [astropy._erfa.core]\n",
      "WARNING: ErfaWarning: ERFA function \"utctai\" yielded 1 of \"dubious year (Note 3)\" [astropy._erfa.core]\n",
      "WARNING: ErfaWarning: ERFA function \"taiutc\" yielded 1 of \"dubious year (Note 4)\" [astropy._erfa.core]\n"
     ]
    }
   ],
   "source": [
    "#venus to earth transfer orbit params at start\n",
    "print('frame: ',trx_ve.frame)\n",
    "print('epoch:',trx_ve.epoch)\n",
    "print('GMAT ELDER.Epoch =',(trx_ve.epoch-Time(\"1941-01-05\")).value, ';')\n",
    "print('GMAT ELDER.SMA =  ', trx_ve.p.to(u.km).value,';')\n",
    "print('GMAT ELDER.ECC =  ', trx_ve.ecc.value,';')\n",
    "print('GMAT ELDER.INC =  ', trx_ve.inc.to(u.deg).value,';')\n",
    "print('GMAT ELDER.RAAN = ', trx_ve.raan.to(u.deg).value,';')\n",
    "print('GMAT ELDER.AOP =  ',trx_ve.argp.to(u.deg).value,';')\n",
    "print('GMAT ELDER.TA =   ', trx_ve.nu.to(u.deg).value,';')"
   ]
  },
  {
   "cell_type": "code",
   "execution_count": 92,
   "metadata": {},
   "outputs": [
    {
     "name": "stdout",
     "output_type": "stream",
     "text": [
      "computed saturn\n",
      "computed J-S\n",
      "computed E-J\n",
      "computed V-E\n",
      "Total delta-v:  15.266531561730773 km / s\n",
      "     fun: 84.54922811365712\n",
      "     jac: array([-31.95235062,  30.46503925,  56.17839241, -41.07742405])\n",
      " message: 'Optimization terminated successfully.'\n",
      "    nfev: 223\n",
      "     nit: 33\n",
      "    njev: 33\n",
      "  status: 0\n",
      " success: True\n",
      "       x: array([ 31.        ,   9.02247567,   0.81790594,   0.1153692 ])\n",
      "\n",
      "Total deltav:  15.266531561730773 km / s\n",
      "Delta vs:  [5.296411656941787, 7.857778023134297, 2.1123418816546895]\n",
      "\n",
      "vinf_v =  10.516369423383471 km / s\n",
      "vinf_e =  14.770401693194467 km / s\n",
      "vinf_j =  4.4628607506713625 km / s\n",
      "maxdv_v:  6.510720372376563 km / s\n",
      "maxdv_e:  5.561232614211904 km / s\n",
      "maxdv_j:  8.391147391503536 km / s\n",
      "dv_v: \n",
      "dv_e:  5.296411656941787 km / s\n",
      "dv_j:  7.857778023134297 km / s\n",
      "\n",
      "errors:\n",
      "cant slow down saturn\n",
      "\n",
      "Times:\n",
      "Venus:    2028-12-22 00:13:30.392\n",
      "Earth:    2032-02-14 05:51:42.736\n",
      "Jupiter:  2035-01-25 03:21:35.978\n",
      "Saturn:   2047-04-09 15:14:14.057\n",
      "**\n",
      "V-E:  3.14643358 yr\n",
      "E-J:  2.94564204 yr\n",
      "J-S:  12.20395588 yr\n",
      "\n"
     ]
    }
   ],
   "source": [
    "t_very_good=[29.13542901,  11.23456831,   2.51874946,   4.99999999]\n",
    "t_very_good2 = [27.27073206,  12.20395588,   2.94564204,   3.14643358]\n",
    "sol = trajectory_calculator(t=t_very_good2,plot_on=0,disp_on=1)\n",
    "\n",
    "print(opt_sol)\n",
    "\n",
    "#sol = trajectory_calculator([ 21.82450945,   9.33104326,   2.39418937,   0.2])\n",
    "\n",
    "#print(\"Tmod: \",opt_sol.x)\n",
    "print()\n",
    "print(\"Total deltav: \", sol[0])\n",
    "print(\"Delta vs: \",[x.value for x in sol[3]])\n",
    "print()\n",
    "\n",
    "\n",
    "\n",
    "t_ve=sol[4][1]-sol[4][0]\n",
    "t_ej=sol[4][2]-sol[4][1]\n",
    "t_js=sol[4][3]-sol[4][2]\n",
    "\n",
    "o_v = sol[1][0]\n",
    "o_e = sol[1][1]\n",
    "o_j = sol[1][2]\n",
    "o_s = sol[1][3]\n",
    "\n",
    "\n",
    "trx_ve = sol[2][0]\n",
    "trx_ej = sol[2][1]\n",
    "trx_js = sol[2][2]\n",
    "\n",
    "\n",
    "trx_ve_half = trx_ve.propagate(t_ve/2)\n",
    "trx_ej_half = trx_ej.propagate(t_ej/2)\n",
    "trx_js_half = trx_js.propagate(t_js/2)\n",
    "\n",
    "vinf_v = norm(trx_ve.v-o_v.v).to(u.km/u.s)\n",
    "vinf_e = norm(trx_ej.v-o_e.v).to(u.km/u.s)\n",
    "vinf_j = norm(trx_js.v-o_j.v).to(u.km/u.s)\n",
    "\n",
    "print('vinf_v = ',vinf_v)\n",
    "print('vinf_e = ',vinf_e)\n",
    "print('vinf_j = ',vinf_j)\n",
    "\n",
    "q_min_v = Venus.R   + 500*u.km;\n",
    "q_min_e = Earth.R   + 1500*u.km;\n",
    "q_min_j = Jupiter.R + 1500*u.km;\n",
    "\n",
    "maxdv_v = 2*vinf_v/(1+vinf_v**2*q_min_v/Venus.k)\n",
    "maxdv_e = 2*vinf_e/(1+vinf_e**2*q_min_e/Earth.k)\n",
    "maxdv_j = 2*vinf_j/(1+vinf_v**2*q_min_j/Jupiter.k)\n",
    "\n",
    "print('maxdv_v: ', maxdv_v)\n",
    "print('maxdv_e: ', maxdv_e)\n",
    "print('maxdv_j: ', maxdv_j)\n",
    "\n",
    "print('dv_v: ')\n",
    "print('dv_e: ', sol[3][0] )\n",
    "print('dv_j: ', sol[3][1] )\n",
    "\n",
    "print()\n",
    "print('errors:')\n",
    "\n",
    "if sol[3][0] > maxdv_e:\n",
    "    print('cant flyby earth')\n",
    "if sol[3][1] > maxdv_j:\n",
    "    print('cant flyby jupiter')\n",
    "if sol[3][2] > 700*u.m/u.s:\n",
    "    print('cant slow down saturn')\n",
    "\n",
    "print()\n",
    "\n",
    "print('Times:')\n",
    "print_times(sol[4])\n",
    "print()"
   ]
  },
  {
   "cell_type": "code",
   "execution_count": 93,
   "metadata": {},
   "outputs": [
    {
     "name": "stderr",
     "output_type": "stream",
     "text": [
      "/Users/Devansh/anaconda3/lib/python3.6/site-packages/poliastro/twobody/propagation.py:232: UserWarning:\n",
      "\n",
      "Frame <class 'astropy.coordinates.builtin_frames.icrs.ICRS'> does not support 'obstime', time values were not returned\n",
      "\n"
     ]
    },
    {
     "data": {
      "application/vnd.jupyter.widget-view+json": {
       "model_id": "587c36a7d70145eca7dcfdf9174d5d41",
       "version_major": 2,
       "version_minor": 0
      },
      "text/plain": [
       "FigureWidget({\n",
       "    'data': [{'hoverinfo': 'none',\n",
       "              'line': {'color': 'rgb(31, 119, 180)', 'dash':…"
      ]
     },
     "metadata": {},
     "output_type": "display_data"
    }
   ],
   "source": [
    "op=OrbitPlotter2D()\n",
    "op.plot(sol[1][0],label='V')\n",
    "op.plot(sol[1][1],label='E')\n",
    "op.plot(sol[1][2],label='J')\n",
    "op.plot(sol[1][3],label='S')\n",
    "op.plot(trx_ve_half,label='VE')\n",
    "op.plot(trx_ej_half,label='EJ')\n",
    "op.plot(trx_js_half,label='JS')"
   ]
  },
  {
   "cell_type": "code",
   "execution_count": null,
   "metadata": {},
   "outputs": [],
   "source": [
    "v_vec=[trx_ve.v[0],trx_ve.v[1]]"
   ]
  },
  {
   "cell_type": "code",
   "execution_count": null,
   "metadata": {},
   "outputs": [],
   "source": [
    "trx_ve.r.to(u.AU)"
   ]
  },
  {
   "cell_type": "code",
   "execution_count": null,
   "metadata": {},
   "outputs": [],
   "source": [
    "r_vec=[trx_ve.r[0],trx_ve.r[1]]"
   ]
  },
  {
   "cell_type": "code",
   "execution_count": null,
   "metadata": {},
   "outputs": [],
   "source": [
    "trx_ve.r"
   ]
  },
  {
   "cell_type": "code",
   "execution_count": null,
   "metadata": {},
   "outputs": [],
   "source": []
  },
  {
   "cell_type": "code",
   "execution_count": null,
   "metadata": {},
   "outputs": [],
   "source": []
  },
  {
   "cell_type": "code",
   "execution_count": null,
   "metadata": {},
   "outputs": [],
   "source": [
    "v_radial"
   ]
  },
  {
   "cell_type": "code",
   "execution_count": null,
   "metadata": {
    "scrolled": true
   },
   "outputs": [],
   "source": [
    "norm(v_radial)"
   ]
  },
  {
   "cell_type": "code",
   "execution_count": null,
   "metadata": {},
   "outputs": [],
   "source": []
  },
  {
   "cell_type": "code",
   "execution_count": null,
   "metadata": {},
   "outputs": [],
   "source": [
    "v_tangetial"
   ]
  },
  {
   "cell_type": "code",
   "execution_count": null,
   "metadata": {},
   "outputs": [],
   "source": [
    "norm(v_tangetial)"
   ]
  },
  {
   "cell_type": "code",
   "execution_count": null,
   "metadata": {},
   "outputs": [],
   "source": []
  },
  {
   "cell_type": "code",
   "execution_count": null,
   "metadata": {},
   "outputs": [],
   "source": []
  },
  {
   "cell_type": "code",
   "execution_count": null,
   "metadata": {
    "scrolled": false
   },
   "outputs": [],
   "source": [
    "norm(o_v.v).to(u.km/u.s)"
   ]
  },
  {
   "cell_type": "code",
   "execution_count": null,
   "metadata": {},
   "outputs": [],
   "source": [
    "norm(trx_ve.v-o_v.v)"
   ]
  },
  {
   "cell_type": "code",
   "execution_count": null,
   "metadata": {},
   "outputs": [],
   "source": []
  },
  {
   "cell_type": "code",
   "execution_count": null,
   "metadata": {},
   "outputs": [],
   "source": [
    "norm(vinf_v)"
   ]
  },
  {
   "cell_type": "code",
   "execution_count": null,
   "metadata": {},
   "outputs": [],
   "source": [
    "deltav_max"
   ]
  },
  {
   "cell_type": "code",
   "execution_count": null,
   "metadata": {},
   "outputs": [],
   "source": [
    "q_min"
   ]
  },
  {
   "cell_type": "code",
   "execution_count": null,
   "metadata": {},
   "outputs": [],
   "source": [
    "Venus.k"
   ]
  },
  {
   "cell_type": "code",
   "execution_count": null,
   "metadata": {},
   "outputs": [],
   "source": []
  },
  {
   "cell_type": "code",
   "execution_count": null,
   "metadata": {},
   "outputs": [],
   "source": [
    "trx_js_final = trx_js.propagate(t_js)"
   ]
  },
  {
   "cell_type": "code",
   "execution_count": null,
   "metadata": {},
   "outputs": [],
   "source": [
    "trx_js_final.v"
   ]
  },
  {
   "cell_type": "code",
   "execution_count": null,
   "metadata": {},
   "outputs": [],
   "source": [
    "o_s=sol[1][3]"
   ]
  },
  {
   "cell_type": "code",
   "execution_count": null,
   "metadata": {},
   "outputs": [],
   "source": [
    "o_s.v.to(u.km/u.s)"
   ]
  },
  {
   "cell_type": "code",
   "execution_count": null,
   "metadata": {},
   "outputs": [],
   "source": [
    "norm(trx_js_final.v-o_s.v)"
   ]
  },
  {
   "cell_type": "code",
   "execution_count": null,
   "metadata": {},
   "outputs": [],
   "source": [
    "(Saturn.k/(4*Saturn.R))**0.5"
   ]
  },
  {
   "cell_type": "code",
   "execution_count": null,
   "metadata": {},
   "outputs": [],
   "source": [
    "print()\n",
    "print(\"Total deltav: \", sol[0])\n",
    "print(\"Delta vs: \",[x.value for x in sol[3]])\n",
    "print()\n"
   ]
  },
  {
   "cell_type": "code",
   "execution_count": null,
   "metadata": {},
   "outputs": [],
   "source": [
    "earthflybyConstraint(opt_sol.x)\n",
    "print('jup')\n",
    "jupiterflybyConstraint(opt_sol.x)"
   ]
  },
  {
   "cell_type": "code",
   "execution_count": null,
   "metadata": {},
   "outputs": [],
   "source": []
  },
  {
   "cell_type": "code",
   "execution_count": null,
   "metadata": {},
   "outputs": [],
   "source": [
    "\n",
    "o_v"
   ]
  },
  {
   "cell_type": "code",
   "execution_count": null,
   "metadata": {},
   "outputs": [],
   "source": []
  },
  {
   "cell_type": "code",
   "execution_count": null,
   "metadata": {},
   "outputs": [],
   "source": []
  },
  {
   "cell_type": "code",
   "execution_count": null,
   "metadata": {},
   "outputs": [],
   "source": [
    "earth_departure_time"
   ]
  },
  {
   "cell_type": "code",
   "execution_count": null,
   "metadata": {},
   "outputs": [],
   "source": [
    "venus_arrival_time = o_v.epoch\n",
    "earth_departure_time = venus_arrival_time - 1.450846798*u.year\n",
    "o_e_launch = Orbit.from_body_ephem(Earth,earth_departure_time)\n",
    "o_v_launch = Orbit.from_body_ephem(Venus,earth_departure_time)\n",
    "print((180/math.pi)*math.acos(np.dot(o_e_launch.r.to(u.km).value,o_v.r.to(u.km).value)/(norm(o_e_launch.r.to(u.km)).value*norm(o_v.r.to(u.km)).value)))\n",
    "op=OrbitPlotter2D()\n",
    "op.plot(o_e_launch)\n",
    "op.plot(o_v)"
   ]
  },
  {
   "cell_type": "code",
   "execution_count": null,
   "metadata": {},
   "outputs": [],
   "source": [
    "o_e_launch"
   ]
  },
  {
   "cell_type": "code",
   "execution_count": null,
   "metadata": {},
   "outputs": [],
   "source": [
    "op=OrbitPlotter2D()\n",
    "op.plot(o_e_launch)\n",
    "op.plot(o_v_launch)\n",
    "op.plot(o_v)"
   ]
  },
  {
   "cell_type": "code",
   "execution_count": null,
   "metadata": {},
   "outputs": [],
   "source": [
    "o_e_launch.r"
   ]
  },
  {
   "cell_type": "code",
   "execution_count": null,
   "metadata": {},
   "outputs": [],
   "source": [
    "o_v.r"
   ]
  },
  {
   "cell_type": "code",
   "execution_count": null,
   "metadata": {},
   "outputs": [],
   "source": [
    "np.dot(o_e_launch.r.to(u.km).value,o_v.r.to(u.km).value)"
   ]
  },
  {
   "cell_type": "code",
   "execution_count": null,
   "metadata": {},
   "outputs": [],
   "source": []
  },
  {
   "cell_type": "code",
   "execution_count": null,
   "metadata": {},
   "outputs": [],
   "source": [
    "np.dot(o_e_launch.r.to(u.km).value,o_v.r.to(u.km).value)"
   ]
  },
  {
   "cell_type": "code",
   "execution_count": null,
   "metadata": {},
   "outputs": [],
   "source": [
    "norm(o_e_launch.r.to(u.km)).value"
   ]
  },
  {
   "cell_type": "code",
   "execution_count": null,
   "metadata": {},
   "outputs": [],
   "source": []
  }
 ],
 "metadata": {
  "kernelspec": {
   "display_name": "Python 3",
   "language": "python",
   "name": "python3"
  },
  "language_info": {
   "codemirror_mode": {
    "name": "ipython",
    "version": 3
   },
   "file_extension": ".py",
   "mimetype": "text/x-python",
   "name": "python",
   "nbconvert_exporter": "python",
   "pygments_lexer": "ipython3",
   "version": "3.6.7"
  }
 },
 "nbformat": 4,
 "nbformat_minor": 2
}
