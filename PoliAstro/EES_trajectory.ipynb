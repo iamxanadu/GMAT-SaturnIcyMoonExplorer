{
 "cells": [
  {
   "cell_type": "code",
   "execution_count": 87,
   "metadata": {},
   "outputs": [
    {
     "data": {
      "text/plain": [
       "<ScienceState solar_system_ephemeris: 'jpl'>"
      ]
     },
     "execution_count": 87,
     "metadata": {},
     "output_type": "execute_result"
    }
   ],
   "source": [
    "import numpy as np\n",
    "import math\n",
    "\n",
    "import astropy.units as u\n",
    "from astropy.time import Time\n",
    "from astropy.coordinates import solar_system_ephemeris\n",
    "\n",
    "from poliastro.bodies import Sun,Venus, Earth, Jupiter, Saturn\n",
    "from poliastro.threebody import flybys\n",
    "from poliastro.twobody import Orbit\n",
    "from poliastro.maneuver import Maneuver\n",
    "from poliastro.iod import izzo\n",
    "from poliastro.plotting import OrbitPlotter2D, OrbitPlotter3D\n",
    "from poliastro.util import norm\n",
    "import poliastro.twobody.propagation as Propagation\n",
    "\n",
    "from scipy import optimize as opt\n",
    " \n",
    "solar_system_ephemeris.set(\"jpl\")"
   ]
  },
  {
   "cell_type": "code",
   "execution_count": 88,
   "metadata": {},
   "outputs": [],
   "source": [
    "launch_date = Time(\"2027-06-20\",scale='tdb')\n",
    "DSM = Time(\"2028-07-18\",scale='tdb')\n",
    "earth_flyby = Time(\"2029-08-28\",scale='tdb')\n",
    "saturn_arrival = Time(\"2035-05-25\",scale='tdb')"
   ]
  },
  {
   "cell_type": "code",
   "execution_count": 89,
   "metadata": {},
   "outputs": [],
   "source": [
    "#create orbits\n",
    "o_e1 = Orbit.from_body_ephem(Earth,launch_date)\n",
    "o_e2 = Orbit.from_body_ephem(Earth,earth_flyby)\n",
    "o_s  = Orbit.from_body_ephem(Saturn,saturn_arrival)"
   ]
  },
  {
   "cell_type": "code",
   "execution_count": 99,
   "metadata": {},
   "outputs": [],
   "source": [
    "#perform c3\n",
    "C_3 = 29.9*u.km**2/u.s**2\n",
    "\n",
    "dv_launchC3 = (C_3 ** 0.5)* o_e1.v / norm(o_e1.v)"
   ]
  },
  {
   "cell_type": "code",
   "execution_count": 100,
   "metadata": {},
   "outputs": [
    {
     "data": {
      "text/latex": [
       "$[5.4642812,~-0.18711429,~-0.081358226] \\; \\mathrm{\\frac{km}{s}}$"
      ],
      "text/plain": [
       "<Quantity [ 5.4642812 ,-0.18711429,-0.08135823] km / s>"
      ]
     },
     "execution_count": 100,
     "metadata": {},
     "output_type": "execute_result"
    }
   ],
   "source": [
    "dv_launchC3"
   ]
  },
  {
   "cell_type": "code",
   "execution_count": 101,
   "metadata": {},
   "outputs": [],
   "source": [
    "c3Burn = Maneuver.impulse(dv_launchC3)"
   ]
  },
  {
   "cell_type": "code",
   "execution_count": 102,
   "metadata": {},
   "outputs": [],
   "source": [
    "e_dsm = o_e1.apply_maneuver(c3Burn)"
   ]
  },
  {
   "cell_type": "code",
   "execution_count": 103,
   "metadata": {},
   "outputs": [
    {
     "data": {
      "application/vnd.jupyter.widget-view+json": {
       "model_id": "2da87b235fc1423fa81acfeddb6c3263",
       "version_major": 2,
       "version_minor": 0
      },
      "text/plain": [
       "FigureWidget({\n",
       "    'data': [{'hoverinfo': 'none',\n",
       "              'line': {'color': 'rgb(31, 119, 180)', 'dash':…"
      ]
     },
     "metadata": {},
     "output_type": "display_data"
    }
   ],
   "source": [
    "e_dsm.plot()"
   ]
  },
  {
   "cell_type": "code",
   "execution_count": 135,
   "metadata": {},
   "outputs": [
    {
     "data": {
      "text/latex": [
       "$1.4187793 \\; \\mathrm{AU}$"
      ],
      "text/plain": [
       "<Quantity 1.4187793422280313 AU>"
      ]
     },
     "execution_count": 135,
     "metadata": {},
     "output_type": "execute_result"
    }
   ],
   "source": [
    "e_dsm.p.to(u.AU)"
   ]
  },
  {
   "cell_type": "code",
   "execution_count": 104,
   "metadata": {},
   "outputs": [],
   "source": [
    "#propagate to dsm\n",
    "o_dsm_minus = e_dsm.propagate(e_dsm.period / 2)"
   ]
  },
  {
   "cell_type": "code",
   "execution_count": 105,
   "metadata": {},
   "outputs": [],
   "source": [
    "#determine the deltav needed to hit earth again\n",
    "dms_e_time = earth_flyby - o_dsm_minus.epoch"
   ]
  },
  {
   "cell_type": "code",
   "execution_count": 106,
   "metadata": {},
   "outputs": [
    {
     "data": {
      "text/latex": [
       "$404.37671 \\; \\mathrm{d}$"
      ],
      "text/plain": [
       "<Quantity 404.37670876974187 d>"
      ]
     },
     "execution_count": 106,
     "metadata": {},
     "output_type": "execute_result"
    }
   ],
   "source": [
    "dms_e_time.to(u.day)"
   ]
  },
  {
   "cell_type": "code",
   "execution_count": 107,
   "metadata": {},
   "outputs": [],
   "source": [
    "(v_dsm_plus, v_eflyby_minus), = izzo.lambert(Sun.k, o_dsm_minus.r, o_e2.r, dms_e_time)"
   ]
  },
  {
   "cell_type": "code",
   "execution_count": 108,
   "metadata": {},
   "outputs": [
    {
     "data": {
      "text/latex": [
       "$[-13.993662,~0.50731336,~0.21988115] \\; \\mathrm{\\frac{km}{s}}$"
      ],
      "text/plain": [
       "<Quantity [-13.99366241,  0.50731336,  0.21988115] km / s>"
      ]
     },
     "execution_count": 108,
     "metadata": {},
     "output_type": "execute_result"
    }
   ],
   "source": [
    "v_dsm_plus"
   ]
  },
  {
   "cell_type": "code",
   "execution_count": 109,
   "metadata": {},
   "outputs": [
    {
     "data": {
      "text/latex": [
       "$[24.864749,~21.917949,~9.4992379] \\; \\mathrm{\\frac{km}{s}}$"
      ],
      "text/plain": [
       "<Quantity [ 24.8647495 , 21.91794907,  9.49923785] km / s>"
      ]
     },
     "execution_count": 109,
     "metadata": {},
     "output_type": "execute_result"
    }
   ],
   "source": [
    "v_eflyby_minus"
   ]
  },
  {
   "cell_type": "code",
   "execution_count": 110,
   "metadata": {},
   "outputs": [],
   "source": [
    "#determine delta v of dsm\n",
    "dsm_dv = v_dsm_plus - o_dsm_minus.v"
   ]
  },
  {
   "cell_type": "code",
   "execution_count": 111,
   "metadata": {},
   "outputs": [
    {
     "data": {
      "text/latex": [
       "$1.2354443 \\; \\mathrm{\\frac{km}{s}}$"
      ],
      "text/plain": [
       "<Quantity 1.2354443241575022 km / s>"
      ]
     },
     "execution_count": 111,
     "metadata": {},
     "output_type": "execute_result"
    }
   ],
   "source": [
    "norm(dsm_dv)"
   ]
  },
  {
   "cell_type": "code",
   "execution_count": 112,
   "metadata": {},
   "outputs": [],
   "source": [
    "#apply manourver\n",
    "dsm_man = Maneuver.impulse(dsm_dv)\n",
    "o_dsm_plus = o_dsm_minus.apply_maneuver(dsm_man)"
   ]
  },
  {
   "cell_type": "code",
   "execution_count": 113,
   "metadata": {},
   "outputs": [],
   "source": [
    "#propagate\n",
    "dsm_e_time = earth_flyby-DSM;\n",
    "o_eflyby_minus = o_dsm_plus.propagate(dsm_e_time)"
   ]
  },
  {
   "cell_type": "code",
   "execution_count": null,
   "metadata": {},
   "outputs": [],
   "source": []
  },
  {
   "cell_type": "code",
   "execution_count": 114,
   "metadata": {},
   "outputs": [],
   "source": [
    "#compute requirement for earth to saturn\n",
    "e_s_time = saturn_arrival-earth_flyby;\n",
    "(v_eflyby_plus, v_saturn_minus),=izzo.lambert(Sun.k, o_e2.r, o_s.r, e_s_time)\n",
    "o_es = Orbit.from_vectors(Sun, o_e2.r,v_eflyby_plus)\n"
   ]
  },
  {
   "cell_type": "code",
   "execution_count": 115,
   "metadata": {},
   "outputs": [
    {
     "data": {
      "text/latex": [
       "$[24.785637,~28.176267,~13.041839] \\; \\mathrm{\\frac{km}{s}}$"
      ],
      "text/plain": [
       "<Quantity [ 24.78563671, 28.1762668 , 13.04183929] km / s>"
      ]
     },
     "execution_count": 115,
     "metadata": {},
     "output_type": "execute_result"
    }
   ],
   "source": [
    "v_eflyby_plus"
   ]
  },
  {
   "cell_type": "code",
   "execution_count": 116,
   "metadata": {},
   "outputs": [],
   "source": [
    "earth_flyby_dv = v_eflyby_plus-v_eflyby_minus"
   ]
  },
  {
   "cell_type": "code",
   "execution_count": 121,
   "metadata": {},
   "outputs": [
    {
     "data": {
      "text/latex": [
       "$7.1918582 \\; \\mathrm{\\frac{km}{s}}$"
      ],
      "text/plain": [
       "<Quantity 7.191858207911887 km / s>"
      ]
     },
     "execution_count": 121,
     "metadata": {},
     "output_type": "execute_result"
    }
   ],
   "source": [
    "norm(earth_flyby_dv)"
   ]
  },
  {
   "cell_type": "code",
   "execution_count": 127,
   "metadata": {
    "scrolled": true
   },
   "outputs": [
    {
     "name": "stdout",
     "output_type": "stream",
     "text": [
      "1.2354443241575022 km / s\n",
      "7.191858207911887 km / s\n",
      "5.847156150528917 km / s\n"
     ]
    }
   ],
   "source": [
    "print(norm(dsm_dv))\n",
    "print(norm(earth_flyby_dv))\n",
    "print(norm(v_saturn_minus-o_s.v))"
   ]
  },
  {
   "cell_type": "code",
   "execution_count": 126,
   "metadata": {},
   "outputs": [
    {
     "data": {
      "text/latex": [
       "$13.207328 \\; \\mathrm{\\frac{km}{s}}$"
      ],
      "text/plain": [
       "<Quantity 13.207327885587445 km / s>"
      ]
     },
     "execution_count": 126,
     "metadata": {},
     "output_type": "execute_result"
    }
   ],
   "source": [
    "norm(v_eflyby_plus-o_e2.v)"
   ]
  },
  {
   "cell_type": "code",
   "execution_count": 119,
   "metadata": {},
   "outputs": [
    {
     "name": "stderr",
     "output_type": "stream",
     "text": [
      "/Users/Devansh/anaconda3/lib/python3.6/site-packages/poliastro/twobody/propagation.py:232: UserWarning:\n",
      "\n",
      "Frame <class 'astropy.coordinates.builtin_frames.icrs.ICRS'> does not support 'obstime', time values were not returned\n",
      "\n"
     ]
    },
    {
     "data": {
      "application/vnd.jupyter.widget-view+json": {
       "model_id": "ba2d4680d3544dcba8a08b158c8907b5",
       "version_major": 2,
       "version_minor": 0
      },
      "text/plain": [
       "FigureWidget({\n",
       "    'data': [{'hoverinfo': 'none',\n",
       "              'line': {'color': 'rgb(31, 119, 180)', 'dash':…"
      ]
     },
     "metadata": {},
     "output_type": "display_data"
    }
   ],
   "source": [
    "op=OrbitPlotter2D()\n",
    "op.plot(o_e1)\n",
    "op.plot(o_e2)\n",
    "op.plot(o_s)\n",
    "op.plot(e_dsm)\n",
    "op.plot(o_dsm_plus)\n",
    "op.plot(o_es)"
   ]
  },
  {
   "cell_type": "code",
   "execution_count": 120,
   "metadata": {},
   "outputs": [
    {
     "name": "stderr",
     "output_type": "stream",
     "text": [
      "/Users/Devansh/anaconda3/lib/python3.6/site-packages/poliastro/twobody/propagation.py:232: UserWarning:\n",
      "\n",
      "Frame <class 'astropy.coordinates.builtin_frames.icrs.ICRS'> does not support 'obstime', time values were not returned\n",
      "\n"
     ]
    },
    {
     "data": {
      "application/vnd.jupyter.widget-view+json": {
       "model_id": "e8394be126bb415983b29a61d11381fb",
       "version_major": 2,
       "version_minor": 0
      },
      "text/plain": [
       "FigureWidget({\n",
       "    'data': [{'line': {'color': 'rgb(31, 119, 180)', 'dash': 'dash', 'width': 5},\n",
       "             …"
      ]
     },
     "metadata": {},
     "output_type": "display_data"
    }
   ],
   "source": [
    "op=OrbitPlotter3D()\n",
    "op.plot(o_e1)\n",
    "op.plot(o_e2)\n",
    "op.plot(o_s)\n",
    "op.plot(e_dsm)\n",
    "op.plot(o_dsm_plus)\n",
    "op.plot(o_es)"
   ]
  },
  {
   "cell_type": "code",
   "execution_count": null,
   "metadata": {},
   "outputs": [],
   "source": []
  },
  {
   "cell_type": "code",
   "execution_count": 131,
   "metadata": {},
   "outputs": [
    {
     "data": {
      "text/latex": [
       "$0.015349153 \\; \\mathrm{rad}$"
      ],
      "text/plain": [
       "<Quantity 0.01534915305115464 rad>"
      ]
     },
     "execution_count": 131,
     "metadata": {},
     "output_type": "execute_result"
    }
   ],
   "source": [
    "o_e1.inc-o_s.inc"
   ]
  },
  {
   "cell_type": "code",
   "execution_count": 130,
   "metadata": {},
   "outputs": [
    {
     "data": {
      "text/latex": [
       "$0.39361749 \\; \\mathrm{rad}$"
      ],
      "text/plain": [
       "<Quantity 0.3936174906576033 rad>"
      ]
     },
     "execution_count": 130,
     "metadata": {},
     "output_type": "execute_result"
    }
   ],
   "source": [
    "o_s.inc"
   ]
  },
  {
   "cell_type": "code",
   "execution_count": null,
   "metadata": {},
   "outputs": [],
   "source": []
  }
 ],
 "metadata": {
  "kernelspec": {
   "display_name": "Python 3",
   "language": "python",
   "name": "python3"
  },
  "language_info": {
   "codemirror_mode": {
    "name": "ipython",
    "version": 3
   },
   "file_extension": ".py",
   "mimetype": "text/x-python",
   "name": "python",
   "nbconvert_exporter": "python",
   "pygments_lexer": "ipython3",
   "version": "3.6.7"
  }
 },
 "nbformat": 4,
 "nbformat_minor": 2
}
