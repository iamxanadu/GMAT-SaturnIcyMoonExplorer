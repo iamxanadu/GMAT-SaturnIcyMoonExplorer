{
 "cells": [
  {
   "cell_type": "code",
   "execution_count": 41,
   "metadata": {},
   "outputs": [
    {
     "data": {
      "text/plain": [
       "<ScienceState solar_system_ephemeris: 'jpl'>"
      ]
     },
     "execution_count": 41,
     "metadata": {},
     "output_type": "execute_result"
    }
   ],
   "source": [
    "import numpy as np\n",
    "import math\n",
    "\n",
    "import astropy.units as u\n",
    "from astropy.time import Time\n",
    "from astropy.coordinates import solar_system_ephemeris\n",
    "\n",
    "from poliastro.bodies import Sun,Venus, Earth, Jupiter, Saturn\n",
    "from poliastro.threebody import flybys\n",
    "from poliastro.twobody import Orbit\n",
    "from poliastro.maneuver import Maneuver\n",
    "from poliastro.iod import izzo\n",
    "from poliastro.plotting import OrbitPlotter2D\n",
    "from poliastro.util import norm\n",
    "import poliastro.twobody.propagation as Propagation\n",
    "\n",
    "import matplotlib.pyplot  as plt\n",
    "\n",
    "from scipy import optimize as opt\n",
    " \n",
    "solar_system_ephemeris.set(\"jpl\")"
   ]
  },
  {
   "cell_type": "code",
   "execution_count": 5,
   "metadata": {},
   "outputs": [
    {
     "name": "stderr",
     "output_type": "stream",
     "text": [
      "WARNING: ErfaWarning: ERFA function \"dtf2d\" yielded 1 of \"dubious year (Note 6)\" [astropy._erfa.core]\n",
      "/Users/Devansh/anaconda3/lib/python3.6/site-packages/poliastro/twobody/orbit.py:389: TimeScaleWarning:\n",
      "\n",
      "Input time was converted to scale='tdb' with value 2021-10-21 00:01:09.182. Use Time(..., scale='tdb') instead.\n",
      "\n",
      "WARNING: ErfaWarning: ERFA function \"utctai\" yielded 1 of \"dubious year (Note 3)\" [astropy._erfa.core]\n",
      "WARNING: ErfaWarning: ERFA function \"taiutc\" yielded 1 of \"dubious year (Note 4)\" [astropy._erfa.core]\n",
      "/Users/Devansh/anaconda3/lib/python3.6/site-packages/poliastro/twobody/orbit.py:389: TimeScaleWarning:\n",
      "\n",
      "Input time was converted to scale='tdb' with value 2022-02-04 00:01:09.185. Use Time(..., scale='tdb') instead.\n",
      "\n",
      "/Users/Devansh/anaconda3/lib/python3.6/site-packages/poliastro/twobody/orbit.py:389: TimeScaleWarning:\n",
      "\n",
      "Input time was converted to scale='tdb' with value 2029-10-28 00:01:09.182. Use Time(..., scale='tdb') instead.\n",
      "\n"
     ]
    }
   ],
   "source": [
    "t_launch = Time(\"2021-10-21\")\n",
    "t_vflyby = Time(\"2022-02-04\")\n",
    "t_arrive = Time(\"2029-10-28\")\n",
    "o_e = Orbit.from_body_ephem(Earth,t_launch)\n",
    "o_v = Orbit.from_body_ephem(Venus, t_vflyby)\n",
    "o_s = Orbit.from_body_ephem(Saturn, t_arrive)"
   ]
  },
  {
   "cell_type": "code",
   "execution_count": 7,
   "metadata": {},
   "outputs": [
    {
     "name": "stderr",
     "output_type": "stream",
     "text": [
      "/Users/Devansh/anaconda3/lib/python3.6/site-packages/poliastro/twobody/propagation.py:232: UserWarning:\n",
      "\n",
      "Frame <class 'astropy.coordinates.builtin_frames.icrs.ICRS'> does not support 'obstime', time values were not returned\n",
      "\n"
     ]
    },
    {
     "data": {
      "application/vnd.jupyter.widget-view+json": {
       "model_id": "644e0178dfae404eb8bbc7e1ad3ea583",
       "version_major": 2,
       "version_minor": 0
      },
      "text/plain": [
       "FigureWidget({\n",
       "    'data': [{'hoverinfo': 'none',\n",
       "              'line': {'color': 'rgb(31, 119, 180)', 'dash':…"
      ]
     },
     "metadata": {},
     "output_type": "display_data"
    }
   ],
   "source": [
    "op = OrbitPlotter2D()\n",
    "op.plot(o_e)\n",
    "op.plot(o_v)\n",
    "op.plot(o_s)"
   ]
  },
  {
   "cell_type": "code",
   "execution_count": 8,
   "metadata": {},
   "outputs": [
    {
     "name": "stderr",
     "output_type": "stream",
     "text": [
      "/Users/Devansh/anaconda3/lib/python3.6/site-packages/poliastro/twobody/orbit.py:389: TimeScaleWarning:\n",
      "\n",
      "Input time was converted to scale='tdb' with value 2021-10-21 00:01. Use Time(..., scale='tdb') instead.\n",
      "\n"
     ]
    }
   ],
   "source": [
    "o_eL = Orbit.from_body_ephem(Earth,t_launch)\n",
    "o_vL = Orbit.from_body_ephem(Venus, t_launch)\n",
    "o_sL = Orbit.from_body_ephem(Saturn, t_launch)"
   ]
  },
  {
   "cell_type": "code",
   "execution_count": 10,
   "metadata": {},
   "outputs": [
    {
     "name": "stderr",
     "output_type": "stream",
     "text": [
      "/Users/Devansh/anaconda3/lib/python3.6/site-packages/poliastro/twobody/propagation.py:232: UserWarning:\n",
      "\n",
      "Frame <class 'astropy.coordinates.builtin_frames.icrs.ICRS'> does not support 'obstime', time values were not returned\n",
      "\n"
     ]
    },
    {
     "data": {
      "application/vnd.jupyter.widget-view+json": {
       "model_id": "4a2fc6ed5c674a42a2da9e1e2e3bb870",
       "version_major": 2,
       "version_minor": 0
      },
      "text/plain": [
       "FigureWidget({\n",
       "    'data': [{'hoverinfo': 'none',\n",
       "              'line': {'color': 'rgb(31, 119, 180)', 'dash':…"
      ]
     },
     "metadata": {},
     "output_type": "display_data"
    }
   ],
   "source": [
    "op = OrbitPlotter2D()\n",
    "op.plot(o_eL)\n",
    "op.plot(o_vL)\n",
    "op.plot(o_sL)"
   ]
  },
  {
   "cell_type": "code",
   "execution_count": null,
   "metadata": {},
   "outputs": [],
   "source": []
  },
  {
   "cell_type": "code",
   "execution_count": 34,
   "metadata": {},
   "outputs": [
    {
     "name": "stderr",
     "output_type": "stream",
     "text": [
      "WARNING: ErfaWarning: ERFA function \"taiutc\" yielded 1 of \"dubious year (Note 4)\" [astropy._erfa.core]\n",
      "WARNING: ErfaWarning: ERFA function \"utctai\" yielded 1 of \"dubious year (Note 3)\" [astropy._erfa.core]\n",
      "/Users/Devansh/anaconda3/lib/python3.6/site-packages/poliastro/twobody/orbit.py:389: TimeScaleWarning:\n",
      "\n",
      "Input time was converted to scale='tdb' with value 2043-02-23 21:22:23.585. Use Time(..., scale='tdb') instead.\n",
      "\n"
     ]
    },
    {
     "name": "stdout",
     "output_type": "stream",
     "text": [
      "77.05602454928496 deg\n",
      "68.17692787470975 deg\n"
     ]
    },
    {
     "name": "stderr",
     "output_type": "stream",
     "text": [
      "/Users/Devansh/anaconda3/lib/python3.6/site-packages/poliastro/twobody/propagation.py:232: UserWarning:\n",
      "\n",
      "Frame <class 'astropy.coordinates.builtin_frames.icrs.ICRS'> does not support 'obstime', time values were not returned\n",
      "\n"
     ]
    },
    {
     "data": {
      "application/vnd.jupyter.widget-view+json": {
       "model_id": "de41d321003e4b4da5b5418da873224f",
       "version_major": 2,
       "version_minor": 0
      },
      "text/plain": [
       "FigureWidget({\n",
       "    'data': [{'hoverinfo': 'none',\n",
       "              'line': {'color': 'rgb(31, 119, 180)', 'dash':…"
      ]
     },
     "metadata": {},
     "output_type": "display_data"
    }
   ],
   "source": [
    "t_launchNew = Time(\"2019-05-01\") + 23.819*u.year\n",
    "\n",
    "o_eL2 = Orbit.from_body_ephem(Earth,t_launchNew)\n",
    "o_vL2 = Orbit.from_body_ephem(Venus, t_launchNew)\n",
    "o_sL2 = Orbit.from_body_ephem(Saturn, t_launchNew)\n",
    "\n",
    "print(np.arccos(np.dot(o_eL2.r,o_vL2.r)*u.km*u.km/(norm(o_eL2.r)*norm(o_vL2.r))).to(u.deg))\n",
    "print(np.arccos(np.dot(o_eL2.r,o_sL2.r)*u.km*u.km/(norm(o_eL2.r)*norm(o_sL2.r))).to(u.deg))\n",
    "\n",
    "op = OrbitPlotter2D()\n",
    "op.plot(o_eL2)\n",
    "op.plot(o_vL2)\n",
    "op.plot(o_sL2)\n"
   ]
  },
  {
   "cell_type": "code",
   "execution_count": 14,
   "metadata": {},
   "outputs": [
    {
     "data": {
      "text/latex": [
       "$67.831267 \\; \\mathrm{{}^{\\circ}}$"
      ],
      "text/plain": [
       "<Quantity 67.83126667852521 deg>"
      ]
     },
     "execution_count": 14,
     "metadata": {},
     "output_type": "execute_result"
    }
   ],
   "source": [
    "(o_eL.nu - o_vL.nu).to(u.deg)\n"
   ]
  },
  {
   "cell_type": "code",
   "execution_count": 15,
   "metadata": {},
   "outputs": [
    {
     "data": {
      "text/latex": [
       "$33.416025 \\; \\mathrm{{}^{\\circ}}$"
      ],
      "text/plain": [
       "<Quantity 33.41602471120089 deg>"
      ]
     },
     "execution_count": 15,
     "metadata": {},
     "output_type": "execute_result"
    }
   ],
   "source": [
    "(o_eL.nu - o_sL.nu).to(u.deg)"
   ]
  },
  {
   "cell_type": "code",
   "execution_count": 30,
   "metadata": {},
   "outputs": [
    {
     "data": {
      "text/latex": [
       "$47.792592 \\; \\mathrm{{}^{\\circ}}$"
      ],
      "text/plain": [
       "<Quantity 47.792592137897834 deg>"
      ]
     },
     "execution_count": 30,
     "metadata": {},
     "output_type": "execute_result"
    }
   ],
   "source": [
    "np.arccos(np.dot(o_eL.r,o_vL.r)*u.km*u.km/(norm(o_eL.r)*norm(o_vL.r))).to(u.deg)"
   ]
  },
  {
   "cell_type": "code",
   "execution_count": 31,
   "metadata": {},
   "outputs": [
    {
     "data": {
      "text/latex": [
       "$75.621607 \\; \\mathrm{{}^{\\circ}}$"
      ],
      "text/plain": [
       "<Quantity 75.62160683323914 deg>"
      ]
     },
     "execution_count": 31,
     "metadata": {},
     "output_type": "execute_result"
    }
   ],
   "source": [
    "np.arccos(np.dot(o_eL.r,o_sL.r)*u.km*u.km/(norm(o_eL.r)*norm(o_sL.r))).to(u.deg)"
   ]
  },
  {
   "cell_type": "code",
   "execution_count": 21,
   "metadata": {},
   "outputs": [
    {
     "data": {
      "text/latex": [
       "$[1.3211938 \\times 10^{16},~-1.9570881 \\times 10^{15},~-5.6026103 \\times 10^{14}] \\; \\mathrm{km^{2}}$"
      ],
      "text/plain": [
       "<Quantity [  1.32119384e+16, -1.95708806e+15, -5.60261035e+14] km2>"
      ]
     },
     "execution_count": 21,
     "metadata": {},
     "output_type": "execute_result"
    }
   ],
   "source": [
    "o_eL.r * o_vL.r"
   ]
  },
  {
   "cell_type": "code",
   "execution_count": 23,
   "metadata": {},
   "outputs": [
    {
     "data": {
      "text/latex": [
       "$[1.308413 \\times 10^{8},~63660116,~27622522] \\; \\mathrm{km}$"
      ],
      "text/plain": [
       "<Quantity [  1.30841299e+08,  6.36601157e+07,  2.76225216e+07] km>"
      ]
     },
     "execution_count": 23,
     "metadata": {},
     "output_type": "execute_result"
    }
   ],
   "source": [
    "o_eL.r"
   ]
  },
  {
   "cell_type": "code",
   "execution_count": 24,
   "metadata": {},
   "outputs": [
    {
     "data": {
      "text/latex": [
       "$[1.0097682 \\times 10^{8},~-30742766,~-20282762] \\; \\mathrm{km}$"
      ],
      "text/plain": [
       "<Quantity [  1.00976821e+08, -3.07427664e+07, -2.02827621e+07] km>"
      ]
     },
     "execution_count": 24,
     "metadata": {},
     "output_type": "execute_result"
    }
   ],
   "source": [
    "o_vL.r"
   ]
  },
  {
   "cell_type": "code",
   "execution_count": 25,
   "metadata": {},
   "outputs": [
    {
     "data": {
      "text/plain": [
       "1.3211938398665998e+16"
      ]
     },
     "execution_count": 25,
     "metadata": {},
     "output_type": "execute_result"
    }
   ],
   "source": [
    "1.308413*10**8*1.0097682*10**8"
   ]
  },
  {
   "cell_type": "code",
   "execution_count": 35,
   "metadata": {},
   "outputs": [],
   "source": [
    "vinf = np.linspace(0*u.km/u.s, 6*u.km/u.s)"
   ]
  },
  {
   "cell_type": "code",
   "execution_count": 36,
   "metadata": {},
   "outputs": [],
   "source": [
    "rp = 1.2*Saturn.R;\n",
    "ra = 200*Saturn.R;\n",
    "\n",
    "dv = (Saturn.k*(2/rp-1/ra))**0.5 - (vinf**2 + 2*Saturn.k/rp)**0.5"
   ]
  },
  {
   "cell_type": "code",
   "execution_count": 37,
   "metadata": {},
   "outputs": [
    {
     "data": {
      "text/latex": [
       "$[-48.617953,~-48.849425,~-49.543833,~-50.701146,~-52.321315,~-54.40427,~-56.949922,~-59.958162,~-63.428862,~-67.361871,~-71.757023,~-76.61413,~-81.932983,~-87.713355,~-93.955,~-100.65765,~-107.82102,~-115.44481,~-123.52869,~-132.07232,~-141.07533,~-150.53734,~-160.45796,~-170.83676,~-181.6733,~-192.96713,~-204.71777,~-216.92472,~-229.58748,~-242.7055,~-256.27825,~-270.30515,~-284.78562,~-299.71905,~-315.10483,~-330.94231,~-347.23083,~-363.96973,~-381.15831,~-398.79586,~-416.88166,~-435.41497,~-454.39503,~-473.82105,~-493.69226,~-514.00784,~-534.76697,~-555.9688,~-577.61249,~-599.69717] \\; \\mathrm{\\frac{m}{s}}$"
      ],
      "text/plain": [
       "<Quantity [ -48.61795275, -48.84942529, -49.54383298, -50.70114604,\n",
       "            -52.32131486, -54.40426999, -56.94992215, -59.9581623 ,\n",
       "            -63.42886158, -67.3618714 , -71.75702348, -76.61412981,\n",
       "            -81.9329828 , -87.7133552 , -93.95500027,-100.65765175,\n",
       "           -107.82102394,-115.44481176,-123.52869085,-132.07231756,\n",
       "           -141.0753291 ,-150.53734357,-160.45796007,-170.83675877,\n",
       "           -181.67330098,-192.96712927,-204.71776756,-216.92472122,\n",
       "           -229.58747714,-242.7055039 ,-256.27825182,-270.30515311,\n",
       "           -284.78562196,-299.71905468,-315.10482983,-330.94230831,\n",
       "           -347.23083355,-363.96973156,-381.15831116,-398.79586404,\n",
       "           -416.88166494,-435.41497181,-454.39502591,-473.82105201,\n",
       "           -493.69225849,-514.00783757,-534.76696538,-555.9688022 ,\n",
       "           -577.61249257,-599.69716547] m / s>"
      ]
     },
     "execution_count": 37,
     "metadata": {},
     "output_type": "execute_result"
    }
   ],
   "source": [
    "dv"
   ]
  },
  {
   "cell_type": "code",
   "execution_count": 44,
   "metadata": {},
   "outputs": [
    {
     "data": {
      "image/png": "[encoded data removed]",
      "text/plain": [
       "<Figure size 432x288 with 1 Axes>"
      ]
     },
     "metadata": {},
     "output_type": "display_data"
    }
   ],
   "source": [
    "plt.figure()\n",
    "plt.plot(vinf,dv)\n",
    "plt.grid()"
   ]
  },
  {
   "cell_type": "code",
   "execution_count": null,
   "metadata": {},
   "outputs": [],
   "source": []
  }
 ],
 "metadata": {
  "kernelspec": {
   "display_name": "Python 3",
   "language": "python",
   "name": "python3"
  },
  "language_info": {
   "codemirror_mode": {
    "name": "ipython",
    "version": 3
   },
   "file_extension": ".py",
   "mimetype": "text/x-python",
   "name": "python",
   "nbconvert_exporter": "python",
   "pygments_lexer": "ipython3",
   "version": "3.6.7"
  }
 },
 "nbformat": 4,
 "nbformat_minor": 2
}
