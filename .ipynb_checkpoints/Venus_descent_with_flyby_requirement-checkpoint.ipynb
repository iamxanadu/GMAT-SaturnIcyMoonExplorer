{
 "cells": [
  {
   "cell_type": "code",
   "execution_count": 17,
   "metadata": {},
   "outputs": [],
   "source": [
    "# -*- coding: utf-8 -*-\n",
    "# Adapted from 2017 Interstellar Technologies Inc. All Rights Reserved.\n",
    "\n",
    "from __future__ import print_function\n",
    "import numpy as np\n",
    "import matplotlib.pyplot as plt\n",
    "from OpenGoddard.optimize import Problem, Guess, Condition, Dynamics\n",
    "from math import *\n",
    "\n",
    "class Orbiter:\n",
    "    def __init__(self):\n",
    "        \n",
    "        #note, if d_ is used, it refers to dimensional quantity in SI units. \n",
    "        \n",
    "        AU = 1.5*10**11;\n",
    "        mu_sun = (6.67*10**-11)*(2*10**30) #SI units\n",
    "        year = 3.154*10**7 #seconds\n",
    "        \n",
    "        #set up non-d params\n",
    "        \n",
    "        self.lref = 1*AU; #1 AU\n",
    "        self.vref = sqrt(mu_sun/self.lref) #v of earths orbit\n",
    "        self.tref = self.lref/self.vref\n",
    "        self.aref = (self.vref)**2/self.lref\n",
    "        self.wref = 1/self.tref;\n",
    "        \n",
    "        self.d_mdry = 3500; #kg\n",
    "        \n",
    "        #assign operating limits\n",
    "        self.d_a_max = 0.5/5000; #assuming 0.5N for vehicle mass of 5000 kg\n",
    "        \n",
    "        \n",
    "        #######################T MAX#################################\n",
    "        self.d_tf_max = 6*year;#1.450846797741872*year;\n",
    "        #######################T MAX#################################\n",
    "        \n",
    "        \n",
    "        #assign initial conditions\n",
    "        self.d_r0 = 1*AU;\n",
    "        self.d_vr0 = 0;\n",
    "        self.d_vt0 = sqrt(mu_sun/(1*AU));\n",
    "        self.d_w0 =self.d_vt0/self.d_r0; #earths orbital speed\n",
    "        \n",
    "        \n",
    "        #final conditions\n",
    "        self.d_rf = 0.723*AU;\n",
    "        self.voutbound_radial = 8.814708*1000 #m/s\n",
    "        self.voutbound_tangential = 46.8833*1000 #m/s\n",
    "        \n",
    "        vinf = 14.60657*1000 #m/s\n",
    "        q_min = 6651800 #600 km above venus surface\n",
    "        venus_k = 3.2485859*10**14;\n",
    "        \n",
    "        self.deltav_max = 2*venus_k*vinf/(venus_k+vinf**2*q_min) \n",
    "        \n",
    "        self.d_vrf = 0;\n",
    "        self.d_final_apogee = 1.58*AU;\n",
    "        self.d_final_semimajor = (self.d_rf+self.d_final_apogee)/2;        \n",
    "        self.d_vtf = sqrt(mu_sun*(2/self.d_rf - 1/self.d_final_semimajor)); #vis viva equation at venus apogee.\n",
    "        self.d_wf = self.d_vtf/self.d_rf;\n",
    "        self.d_vtf = 45*1000;\n",
    "        \n",
    "        #non-dimensionalise\n",
    "        self.u_max  = self.d_a_max/self.aref;\n",
    "        self.r0     = self.d_r0 /self.lref;\n",
    "        self.vr0    = self.d_vr0/self.vref;\n",
    "        self.vt0    = self.d_vt0/self.vref;\n",
    "        self.rf     = self.d_rf /self.lref;\n",
    "        self.vrf    = self.d_vrf/self.vref;\n",
    "        self.vtf    = self.d_vtf/self.vref;\n",
    "        self.tf_max = self.d_tf_max/self.tref;\n",
    "\n",
    "\n",
    "def dynamics(prob, obj, section):\n",
    "    r   = prob.states(0, section)\n",
    "    vr  = prob.states(1, section)\n",
    "    vt  = prob.states(2, section)\n",
    "    ur1 = prob.controls(0, section)\n",
    "    ur2 = prob.controls(1, section)\n",
    "    ut1 = prob.controls(2, section)\n",
    "    ut2 = prob.controls(3, section)\n",
    "\n",
    "    dx = Dynamics(prob, section)\n",
    "    dx[0] = vr\n",
    "    dx[1] = vt**2 / r - 1 / r**2 + (ur1 - ur2)\n",
    "    dx[2] = - vr * vt / r + (ut1 - ut2)\n",
    "    return dx()\n",
    "\n",
    "\n",
    "def equality(prob, obj):\n",
    "    r   = prob.states_all_section(0)\n",
    "    vr  = prob.states_all_section(1)\n",
    "    vt  = prob.states_all_section(2)\n",
    "    ur1 = prob.controls_all_section(0)\n",
    "    ur2 = prob.controls_all_section(1)\n",
    "    ut1 = prob.controls_all_section(2)\n",
    "    ut2 = prob.controls_all_section(3)\n",
    "    tf  = prob.time_final(-1)\n",
    "\n",
    "    result = Condition()\n",
    "\n",
    "    # event condition\n",
    "    result.equal(r[0], obj.r0)\n",
    "    result.equal(vr[0], obj.vr0)\n",
    "    result.equal(vt[0], obj.vt0)\n",
    "    \n",
    "    result.equal(r[-1], obj.rf)\n",
    "    #result.equal(vr[-1], obj.vrf)\n",
    "\n",
    "\n",
    "    return result()\n",
    "\n",
    "\n",
    "def inequality(prob, obj):\n",
    "    r   = prob.states_all_section(0)\n",
    "    vr  = prob.states_all_section(1)\n",
    "    vt  = prob.states_all_section(2)\n",
    "    ur1 = prob.controls_all_section(0)\n",
    "    ur2 = prob.controls_all_section(1)\n",
    "    ut1 = prob.controls_all_section(2)\n",
    "    ut2 = prob.controls_all_section(3)\n",
    "    tf  = prob.time_final(-1)\n",
    "\n",
    "    result = Condition()\n",
    "\n",
    "    # lower bounds\n",
    "    result.lower_bound(r, 0.5*min(obj.r0,obj.rf))\n",
    "    result.lower_bound(ur1, 0.0)\n",
    "    result.lower_bound(ut1, 0.0)\n",
    "    result.lower_bound(ur2, 0.0)\n",
    "    result.lower_bound(ut2, 0.0)\n",
    "    result.lower_bound(tf, 0.0)\n",
    "    \n",
    "    #result.lower_bound(vt[-1],obj.vtf) #requries minimum final tangential speed, no upper bound set. \n",
    "\n",
    "    #flyby requirement\n",
    "\n",
    "    #print(vr*obj.vref-obj.voutbound_radial)\n",
    "    #print(sqrt((vr*obj.vref-obj.voutbound_radial)**2))\n",
    "    #print((vt*obj.vref-obj.voutbound_tangential)**2)\n",
    "    #print(sqrt((vr*obj.vref-obj.voutbound_radial)**2 + (vt*obj.vref-obj.voutbound_tangential)**2))\n",
    "    deltav_magnitude = sqrt((vr[-1]*obj.vref-obj.voutbound_radial)**2 + (vt[-1]*obj.vref-obj.voutbound_tangential)**2)\n",
    "\n",
    "    result.upper_bound(deltav_magnitude,obj.deltav_max)\n",
    "    \n",
    "    # upper bounds\n",
    "    result.upper_bound(r, 3*max(obj.r0,obj.rf))\n",
    "    result.upper_bound(np.sqrt(np.square(ur1-ur2) + np.square(ut1-ut2)), obj.u_max)\n",
    "    #result.upper_bound(ut1, obj.u_max)\n",
    "    #result.upper_bound(ur2, obj.u_max)\n",
    "    #result.upper_bound(ut2, obj.u_max)\n",
    "    result.upper_bound(tf, obj.tf_max)\n",
    "    \n",
    "    \n",
    "    \n",
    "\n",
    "    return result()\n",
    "\n",
    "\n",
    "def cost(prob, obj):\n",
    "    return 0.0\n",
    "\n",
    "\n",
    "def running_cost(prob, obj):\n",
    "    ur1 = prob.controls_all_section(0)\n",
    "    ur2 = prob.controls_all_section(1)\n",
    "    ut1 = prob.controls_all_section(2)\n",
    "    ut2 = prob.controls_all_section(3)\n",
    "    \n",
    "    netaccel = np.sqrt(np.square(ur1 + ur2) + np.square(ut1 + ut2));\n",
    "    \n",
    "    if 0:\n",
    "        print(type(ur1))\n",
    "        print(ur1.size)\n",
    "        print((ur1+ur2+ut1+ut2).size)\n",
    "        print(netaccel.size)\n",
    "    \n",
    "    time_weight = 0\n",
    "\n",
    "    return time_weight + netaccel\n",
    "\n"
   ]
  },
  {
   "cell_type": "code",
   "execution_count": 18,
   "metadata": {},
   "outputs": [
    {
     "data": {
      "image/png": "[encoded data removed]",
      "text/plain": [
       "<Figure size 432x288 with 1 Axes>"
      ]
     },
     "metadata": {},
     "output_type": "display_data"
    },
    {
     "data": {
      "image/png": "[encoded data removed]",
      "text/plain": [
       "<Figure size 432x288 with 1 Axes>"
      ]
     },
     "metadata": {},
     "output_type": "display_data"
    },
    {
     "data": {
      "image/png": "[encoded data removed]",
      "text/plain": [
       "<Figure size 432x288 with 1 Axes>"
      ]
     },
     "metadata": {},
     "output_type": "display_data"
    },
    {
     "data": {
      "image/png": "[encoded data removed]",
      "text/plain": [
       "<Figure size 432x288 with 1 Axes>"
      ]
     },
     "metadata": {},
     "output_type": "display_data"
    },
    {
     "data": {
      "image/png": "[encoded data removed]",
      "text/plain": [
       "<Figure size 432x288 with 1 Axes>"
      ]
     },
     "metadata": {},
     "output_type": "display_data"
    }
   ],
   "source": [
    "\n",
    "# ========================\n",
    "plt.close(\"all\")\n",
    "plt.ion()\n",
    "# Program Starting Point\n",
    "\n",
    "obj = Orbiter()\n",
    "\n",
    "\n",
    "time_init = [0.0, obj.tf_max]\n",
    "n = [100]\n",
    "num_states = [3]\n",
    "num_controls = [4]\n",
    "max_iteration = 8\n",
    "\n",
    "flag_savefig = False\n",
    "\n",
    "savefig_dir = \"10_Low_Thrust_Orbit_Transfer/\"\n",
    "\n",
    "# ------------------------\n",
    "# set OpenGoddard class for algorithm determination\n",
    "prob = Problem(time_init, n, num_states, num_controls, max_iteration)\n",
    "\n",
    "\n",
    "# ========================\n",
    "# Initial parameter guess\n",
    "r_init = Guess.linear(prob.time_all_section, obj.r0, obj.rf)\n",
    "Guess.plot(prob.time_all_section, r_init, \"r\", \"time\", \"r\")\n",
    "if(flag_savefig):plt.savefig(savefig_dir + \"guess_r\" + savefig_add + \".png\")\n",
    "\n",
    "vr_init = Guess.linear(prob.time_all_section, obj.vr0, obj.vrf)\n",
    "Guess.plot(prob.time_all_section, vr_init, \"vr\", \"time\", \"vr\")\n",
    "if(flag_savefig):plt.savefig(savefig_dir + \"guess_vr\" + savefig_add + \".png\")\n",
    "\n",
    "vt_init = Guess.linear(prob.time_all_section, obj.vt0, obj.vtf)\n",
    "Guess.plot(prob.time_all_section, vt_init, \"vt\", \"time\", \"vt\")\n",
    "if(flag_savefig):plt.savefig(savefig_dir + \"guess_vt\" + savefig_add + \".png\")\n",
    "\n",
    "ur1_init = Guess.linear(prob.time_all_section, obj.u_max, obj.u_max)\n",
    "Guess.plot(prob.time_all_section, ur1_init, \"ur1\", \"time\", \"ur1\")\n",
    "if(flag_savefig):plt.savefig(savefig_dir + \"guess_ur1\" + savefig_add + \".png\")\n",
    "\n",
    "ut1_init = Guess.linear(prob.time_all_section, obj.u_max, obj.u_max)\n",
    "Guess.plot(prob.time_all_section, ut1_init, \"ut1\", \"time\", \"ut1\")\n",
    "if(flag_savefig):plt.savefig(savefig_dir + \"guess_ut1\" + savefig_add + \".png\")\n",
    "\n",
    "\n"
   ]
  },
  {
   "cell_type": "code",
   "execution_count": 19,
   "metadata": {},
   "outputs": [
    {
     "name": "stdout",
     "output_type": "stream",
     "text": [
      "---- iteration : 1 ----\n"
     ]
    },
    {
     "ename": "KeyboardInterrupt",
     "evalue": "",
     "output_type": "error",
     "traceback": [
      "\u001b[0;31m---------------------------------------------------------------------------\u001b[0m",
      "\u001b[0;31mKeyboardInterrupt\u001b[0m                         Traceback (most recent call last)",
      "\u001b[0;32m<ipython-input-19-c9038b4d60e3>\u001b[0m in \u001b[0;36m<module>\u001b[0;34m()\u001b[0m\n\u001b[1;32m     22\u001b[0m \u001b[0;34m\u001b[0m\u001b[0m\n\u001b[1;32m     23\u001b[0m \u001b[0;34m\u001b[0m\u001b[0m\n\u001b[0;32m---> 24\u001b[0;31m \u001b[0mprob\u001b[0m\u001b[0;34m.\u001b[0m\u001b[0msolve\u001b[0m\u001b[0;34m(\u001b[0m\u001b[0mobj\u001b[0m\u001b[0;34m,\u001b[0m \u001b[0mdisplay_func\u001b[0m\u001b[0;34m,\u001b[0m \u001b[0mftol\u001b[0m\u001b[0;34m=\u001b[0m\u001b[0;36m1e-6\u001b[0m\u001b[0;34m)\u001b[0m\u001b[0;34m\u001b[0m\u001b[0;34m\u001b[0m\u001b[0m\n\u001b[0m",
      "\u001b[0;32m~/anaconda3/lib/python3.6/site-packages/OpenGoddard/optimize.py\u001b[0m in \u001b[0;36msolve\u001b[0;34m(self, obj, display_func, **options)\u001b[0m\n\u001b[1;32m    679\u001b[0m                                     options={\"disp\": True,\n\u001b[1;32m    680\u001b[0m                                              \u001b[0;34m\"maxiter\"\u001b[0m\u001b[0;34m:\u001b[0m \u001b[0mmaxiter\u001b[0m\u001b[0;34m,\u001b[0m\u001b[0;34m\u001b[0m\u001b[0;34m\u001b[0m\u001b[0m\n\u001b[0;32m--> 681\u001b[0;31m                                              \"ftol\": ftol})\n\u001b[0m\u001b[1;32m    682\u001b[0m             \u001b[0mprint\u001b[0m\u001b[0;34m(\u001b[0m\u001b[0mopt\u001b[0m\u001b[0;34m.\u001b[0m\u001b[0mmessage\u001b[0m\u001b[0;34m)\u001b[0m\u001b[0;34m\u001b[0m\u001b[0;34m\u001b[0m\u001b[0m\n\u001b[1;32m    683\u001b[0m             \u001b[0mdisplay_func\u001b[0m\u001b[0;34m(\u001b[0m\u001b[0;34m)\u001b[0m\u001b[0;34m\u001b[0m\u001b[0;34m\u001b[0m\u001b[0m\n",
      "\u001b[0;32m~/anaconda3/lib/python3.6/site-packages/scipy/optimize/_minimize.py\u001b[0m in \u001b[0;36mminimize\u001b[0;34m(fun, x0, args, method, jac, hess, hessp, bounds, constraints, tol, callback, options)\u001b[0m\n\u001b[1;32m    609\u001b[0m     \u001b[0;32melif\u001b[0m \u001b[0mmeth\u001b[0m \u001b[0;34m==\u001b[0m \u001b[0;34m'slsqp'\u001b[0m\u001b[0;34m:\u001b[0m\u001b[0;34m\u001b[0m\u001b[0;34m\u001b[0m\u001b[0m\n\u001b[1;32m    610\u001b[0m         return _minimize_slsqp(fun, x0, args, jac, bounds,\n\u001b[0;32m--> 611\u001b[0;31m                                constraints, callback=callback, **options)\n\u001b[0m\u001b[1;32m    612\u001b[0m     \u001b[0;32melif\u001b[0m \u001b[0mmeth\u001b[0m \u001b[0;34m==\u001b[0m \u001b[0;34m'trust-constr'\u001b[0m\u001b[0;34m:\u001b[0m\u001b[0;34m\u001b[0m\u001b[0;34m\u001b[0m\u001b[0m\n\u001b[1;32m    613\u001b[0m         return _minimize_trustregion_constr(fun, x0, args, jac, hess, hessp,\n",
      "\u001b[0;32m~/anaconda3/lib/python3.6/site-packages/scipy/optimize/slsqp.py\u001b[0m in \u001b[0;36m_minimize_slsqp\u001b[0;34m(func, x0, args, jac, bounds, constraints, maxiter, ftol, iprint, disp, eps, callback, **unknown_options)\u001b[0m\n\u001b[1;32m    424\u001b[0m \u001b[0;34m\u001b[0m\u001b[0m\n\u001b[1;32m    425\u001b[0m         \u001b[0;31m# Call SLSQP\u001b[0m\u001b[0;34m\u001b[0m\u001b[0;34m\u001b[0m\u001b[0;34m\u001b[0m\u001b[0m\n\u001b[0;32m--> 426\u001b[0;31m         \u001b[0mslsqp\u001b[0m\u001b[0;34m(\u001b[0m\u001b[0mm\u001b[0m\u001b[0;34m,\u001b[0m \u001b[0mmeq\u001b[0m\u001b[0;34m,\u001b[0m \u001b[0mx\u001b[0m\u001b[0;34m,\u001b[0m \u001b[0mxl\u001b[0m\u001b[0;34m,\u001b[0m \u001b[0mxu\u001b[0m\u001b[0;34m,\u001b[0m \u001b[0mfx\u001b[0m\u001b[0;34m,\u001b[0m \u001b[0mc\u001b[0m\u001b[0;34m,\u001b[0m \u001b[0mg\u001b[0m\u001b[0;34m,\u001b[0m \u001b[0ma\u001b[0m\u001b[0;34m,\u001b[0m \u001b[0macc\u001b[0m\u001b[0;34m,\u001b[0m \u001b[0mmajiter\u001b[0m\u001b[0;34m,\u001b[0m \u001b[0mmode\u001b[0m\u001b[0;34m,\u001b[0m \u001b[0mw\u001b[0m\u001b[0;34m,\u001b[0m \u001b[0mjw\u001b[0m\u001b[0;34m)\u001b[0m\u001b[0;34m\u001b[0m\u001b[0;34m\u001b[0m\u001b[0m\n\u001b[0m\u001b[1;32m    427\u001b[0m \u001b[0;34m\u001b[0m\u001b[0m\n\u001b[1;32m    428\u001b[0m         \u001b[0;31m# call callback if major iteration has incremented\u001b[0m\u001b[0;34m\u001b[0m\u001b[0;34m\u001b[0m\u001b[0;34m\u001b[0m\u001b[0m\n",
      "\u001b[0;31mKeyboardInterrupt\u001b[0m: "
     ]
    }
   ],
   "source": [
    "\n",
    "prob.set_states_all_section(0, r_init)\n",
    "prob.set_states_all_section(1, vr_init)\n",
    "prob.set_states_all_section(2, vt_init)\n",
    "prob.set_controls_all_section(0, ur1_init)\n",
    "prob.set_controls_all_section(2, ut1_init)\n",
    "\n",
    "# ========================\n",
    "# Main Process\n",
    "# Assign problem to SQP solver\n",
    "prob.dynamics = [dynamics]\n",
    "prob.knot_states_smooth = []\n",
    "prob.cost = cost\n",
    "prob.running_cost = running_cost\n",
    "prob.equality = equality\n",
    "prob.inequality = inequality\n",
    "\n",
    "\n",
    "def display_func():\n",
    "    tf = prob.time_final(-1)\n",
    "    print(\"tf: {0:.5f}\".format(tf))\n",
    "\n",
    "\n",
    "prob.solve(obj, display_func, ftol=1e-6)\n"
   ]
  },
  {
   "cell_type": "code",
   "execution_count": null,
   "metadata": {
    "scrolled": false
   },
   "outputs": [],
   "source": [
    "\n",
    "# ========================\n",
    "# Post Process\n",
    "# ------------------------\n",
    "# Convert parameter vector to variable\n",
    "r = prob.states_all_section(0)\n",
    "vr = prob.states_all_section(1)\n",
    "vt = prob.states_all_section(2)\n",
    "ur1 = prob.controls_all_section(0)\n",
    "ur2 = prob.controls_all_section(1)\n",
    "ut1 = prob.controls_all_section(2)\n",
    "ut2 = prob.controls_all_section(3)\n",
    "time = prob.time_update()\n",
    "\n",
    "year = 3.154*10**7 #seconds\n",
    "\n",
    "accel_mag=np.sqrt(np.square(ur1-ur2)+np.square(ut1-ut2))\n",
    "\n",
    "\n",
    "print()\n",
    "print('DONE')\n",
    "print()\n",
    "deltav_magnitude = sqrt((vr[-1]*obj.vref-obj.voutbound_radial)**2 + (vt[-1]*obj.vref-obj.voutbound_tangential)**2)\n",
    "\n",
    "if deltav_magnitude<obj.deltav_max:\n",
    "    print('YES, FEASIBLE CONNECTION')\n",
    "if deltav_magnitude>=obj.deltav_max:\n",
    "    print('NO, NOT FEASIBLE CONNECTION')\n",
    "\n",
    "\n",
    "# ------------------------\n",
    "# Visualizetion\n",
    "plt.figure()\n",
    "plt.plot(time, r, marker=\".\", label=\"r\")\n",
    "for line in prob.time_knots():\n",
    "    plt.axvline(line, color=\"k\", alpha=0.5)\n",
    "plt.grid()\n",
    "plt.xlabel(\"time [-]\")\n",
    "plt.ylabel(\"r [-]\")\n",
    "plt.legend(loc=\"best\")\n",
    "if(flag_savefig): plt.savefig(savefig_dir + \"r\" + \".png\")\n",
    "\n",
    "plt.figure()\n",
    "plt.plot(time, vr, marker=\".\", label=\"vr\")\n",
    "plt.plot(time, vt, marker=\".\", label=\"vt\")\n",
    "for line in prob.time_knots():\n",
    "    plt.axvline(line, color=\"k\", alpha=0.5)\n",
    "plt.grid()\n",
    "plt.xlabel(\"time [-]\")\n",
    "plt.ylabel(\"velocity [-]\")\n",
    "plt.legend(loc=\"best\")\n",
    "if(flag_savefig): plt.savefig(savefig_dir + \"velocity\" + \".png\")\n",
    "\n",
    "plt.figure()\n",
    "plt.plot(time*obj.tref/year, (ur1 - ur2)*obj.aref, marker=\".\", label=\"ar\")\n",
    "plt.plot(time*obj.tref/year, (ut1 - ut2)*obj.aref, marker=\".\", label=\"at\")\n",
    "plt.grid()\n",
    "plt.xlabel(\"time [years]\")\n",
    "plt.ylabel(\"accel [m/s2]\")\n",
    "# plt.ylim([-0.02, 0.6])\n",
    "plt.legend(loc=\"best\")\n",
    "\n",
    "plt.figure()\n",
    "plt.plot(time, accel_mag, marker=\".\", label=\"a_mag\")\n",
    "plt.plot([0,time[-1]],[obj.u_max,obj.u_max],'k:')\n",
    "plt.grid()\n",
    "plt.xlabel(\"time [-]\")\n",
    "plt.ylabel(\"accel_mag [-]\")\n",
    "plt.legend(loc=\"best\")\n",
    "\n",
    "plt.figure()\n",
    "plt.plot(time, ur1, marker=\".\", label=\"ar_out\")\n",
    "plt.plot(time, ur2, marker=\".\", label=\"ar_in\")\n",
    "plt.grid()\n",
    "plt.xlabel(\"time [-]\")\n",
    "plt.ylabel(\"accel_radial [-]\")\n",
    "# plt.ylim([-0.02, 0.6])\n",
    "plt.legend(loc=\"best\")\n",
    "\n",
    "plt.figure()\n",
    "plt.plot(time, ut1, marker=\".\", label=\"at_pro\")\n",
    "plt.plot(time, ut2, marker=\".\", label=\"at_retro\")\n",
    "plt.grid()\n",
    "plt.xlabel(\"time [-]\")\n",
    "plt.ylabel(\"accel_tangential [-]\")\n",
    "# plt.ylim([-0.02, 0.6])\n",
    "plt.legend(loc=\"best\")\n",
    "\n",
    "if(flag_savefig): plt.savefig(savefig_dir + \"thrust\" + \".png\")\n",
    "\n",
    "\n",
    "from scipy import integrate\n",
    "from scipy import interpolate\n",
    "\n",
    "theta = integrate.cumtrapz(vt / r, time, initial=0)\n",
    "theta_f = interpolate.interp1d(time, theta)\n",
    "r_f = interpolate.interp1d(time, r)\n",
    "time_fine = np.linspace(time[0], time[-1], 1000)\n",
    "r_fine = r_f(time_fine)\n",
    "theta_fine = theta_f(time_fine)\n",
    "\n",
    "fig = plt.figure()\n",
    "# plt.plot(r*np.cos(theta), r*np.sin(theta))\n",
    "plt.plot(r_fine*np.cos(theta_fine), r_fine*np.sin(theta_fine))\n",
    "ax = fig.add_subplot(111)\n",
    "circle0 = plt.Circle((0.0, 0.0), obj.r0, ls=\"--\", fill=False, fc='none')\n",
    "circlef = plt.Circle((0.0, 0.0), obj.rf, ls=\"--\", fill=False, fc='none')\n",
    "ax.add_patch(circle0)\n",
    "ax.add_patch(circlef)\n",
    "plt.grid()\n",
    "plt.axis('equal')\n",
    "plt.ylim((-1.5*max(obj.r0,obj.rf),1.5*max(obj.r0,obj.rf)))\n",
    "plt.xlim((-1.5*max(obj.r0,obj.rf),1.5*max(obj.r0,obj.rf)))\n",
    "plt.xlabel('x (AU)')\n",
    "plt.ylabel('y (AU)')\n",
    "if(flag_savefig): plt.savefig(savefig_dir + \"trajectry\" + \".png\")\n",
    "\n",
    "\n",
    "plt.show()\n",
    "\n",
    "\n",
    "#plot the burn direction vector\n",
    "\n",
    "helioxaccel = (ur1 - ur2)*np.cos(theta) - (ut1-ut2)*np.sin(theta)\n",
    "helioyaccel = (ur1 - ur2)*np.sin(theta) + (ut1-ut2)*np.cos(theta)\n",
    "\n",
    "fig = plt.figure()\n",
    "plt.plot(time,helioxaccel,label='helio x')\n",
    "plt.plot(time,helioyaccel, label='helio y')\n",
    "\n",
    "plt.show()\n",
    "\n",
    "fig = plt.figure()\n",
    "# plt.plot(r*np.cos(theta), r*np.sin(theta))\n",
    "plt.quiver(r*np.cos(theta), r*np.sin(theta), helioxaccel,helioyaccel)\n",
    "ax = fig.add_subplot(111)\n",
    "circle0 = plt.Circle((0.0, 0.0), obj.r0, ls=\"--\", fill=False, fc='none')\n",
    "circlef = plt.Circle((0.0, 0.0), obj.rf, ls=\"--\", fill=False, fc='none')\n",
    "ax.add_patch(circle0)\n",
    "ax.add_patch(circlef)\n",
    "plt.grid()\n",
    "plt.axis('equal')\n",
    "plt.ylim((-1.5*max(obj.r0,obj.rf),1.5*max(obj.r0,obj.rf)))\n",
    "plt.xlim((-1.5*max(obj.r0,obj.rf),1.5*max(obj.r0,obj.rf)))\n",
    "plt.xlabel('x (AU)')\n",
    "plt.ylabel('y (AU)')\n",
    "if(flag_savefig): plt.savefig(savefig_dir + \"trajectry\" + \".png\")\n",
    "\n",
    "\n",
    "plt.show()"
   ]
  },
  {
   "cell_type": "code",
   "execution_count": null,
   "metadata": {},
   "outputs": [],
   "source": [
    "len(r*np.cos(theta))"
   ]
  },
  {
   "cell_type": "code",
   "execution_count": null,
   "metadata": {},
   "outputs": [],
   "source": [
    "len(ur2)"
   ]
  },
  {
   "cell_type": "code",
   "execution_count": null,
   "metadata": {},
   "outputs": [],
   "source": [
    "len(theta)"
   ]
  },
  {
   "cell_type": "code",
   "execution_count": null,
   "metadata": {},
   "outputs": [],
   "source": [
    "#determine how long the transfer will take\n",
    "final_time = time[-1]\n",
    "d_final_time = final_time*obj.tref\n",
    "year = 3.154*10**7 #seconds\n",
    "\n",
    "print(\"Transfer time: \",d_final_time/year, \"years\")\n",
    "\n",
    "#determine delta v and mass fraction\n",
    "delv=np.trapz(y=accel_mag,x=time)\n",
    "d_delv = delv*obj.vref\n",
    "print(\"Required Delta-v: \", d_delv, \"m/s\")\n",
    "mpm0=1-exp(-d_delv/(2020*9.81))\n",
    "print(\"Propellant mass fraction: \", mpm0)\n",
    "\n",
    "#final phase angle:\n",
    "print(\"Arriving phase: \", theta_fine[-1], \"rad\")\n",
    "print(\"Arriving phase: \", 360*((theta_fine[-1]/(2*pi))%1))"
   ]
  },
  {
   "cell_type": "code",
   "execution_count": null,
   "metadata": {},
   "outputs": [],
   "source": []
  },
  {
   "cell_type": "code",
   "execution_count": null,
   "metadata": {},
   "outputs": [],
   "source": []
  },
  {
   "cell_type": "code",
   "execution_count": 59,
   "metadata": {},
   "outputs": [
    {
     "data": {
      "image/png": "[encoded data removed]",
      "text/plain": [
       "<Figure size 432x288 with 1 Axes>"
      ]
     },
     "metadata": {},
     "output_type": "display_data"
    }
   ],
   "source": [
    "#integrate the dynamics from the end point\n",
    "\n",
    "#define the passive dynamics\n",
    "from scipy.integrate import odeint\n",
    "def passiveDynamics(x,t):\n",
    "    r = x[0]\n",
    "    vr = x[1]\n",
    "    vt = x[2]\n",
    "    \n",
    "    dx = [0,0,0]\n",
    "    dx[0] = vr\n",
    "    dx[1] = vt**2 / r - 1 / r**2\n",
    "    dx[2] = - vr * vt / r\n",
    "    \n",
    "    return dx\n",
    "\n",
    "#integrate using odeint\n",
    "t_passive = np.linspace(final_time,final_time+2*year/obj.tref,10000)\n",
    "x_passive = odeint(passiveDynamics,[r[-1],vr[-1],vt[-1]],t_passive)\n",
    "\n",
    "#extract the radial position\n",
    "r_passive = x_passive[:,0]\n",
    "\n",
    "\n",
    "#plot the final solution\n",
    "plt.figure()\n",
    "plt.plot(time*obj.tref/year, r,'b')\n",
    "plt.plot(t_passive*obj.tref/year, r_passive,'r')\n",
    "plt.plot([0,final_time*obj.tref/year + 2],[obj.r0,obj.r0],'k:')\n",
    "plt.plot([0,final_time*obj.tref/year + 2],[obj.rf,obj.rf],'k:')\n",
    "plt.plot([0,final_time*obj.tref/year + 2],[obj.d_final_apogee/obj.lref,obj.d_final_apogee/obj.lref],'k:')\n",
    "plt.grid()\n",
    "plt.xlabel(\"time [years]\")\n",
    "plt.ylabel(\"radius [AU]\")\n",
    "\n",
    "plt.show()\n",
    "\n"
   ]
  },
  {
   "cell_type": "code",
   "execution_count": 60,
   "metadata": {},
   "outputs": [
    {
     "data": {
      "text/plain": [
       "<matplotlib.legend.Legend at 0x131bc607f0>"
      ]
     },
     "execution_count": 60,
     "metadata": {},
     "output_type": "execute_result"
    },
    {
     "data": {
      "image/png": "[encoded data removed]",
      "text/plain": [
       "<Figure size 432x288 with 1 Axes>"
      ]
     },
     "metadata": {},
     "output_type": "display_data"
    }
   ],
   "source": [
    "\n",
    "plt.figure()\n",
    "plt.plot(time*obj.tref/year, (ur1 - ur2)*obj.aref, marker=\".\", label=\"ar\")\n",
    "plt.plot(time*obj.tref/year, (ut1 - ut2)*obj.aref, marker=\".\", label=\"at\")\n",
    "plt.grid()\n",
    "plt.xlabel(\"time [years]\")\n",
    "plt.ylabel(\"accel [m/s2]\")\n",
    "plt.xlim([0,1])\n",
    "plt.legend(loc=\"best\")"
   ]
  },
  {
   "cell_type": "code",
   "execution_count": null,
   "metadata": {},
   "outputs": [],
   "source": []
  },
  {
   "cell_type": "code",
   "execution_count": 61,
   "metadata": {},
   "outputs": [
    {
     "data": {
      "text/plain": [
       "3509223.4028009106"
      ]
     },
     "execution_count": 61,
     "metadata": {},
     "output_type": "execute_result"
    }
   ],
   "source": [
    "deltav_magnitude"
   ]
  },
  {
   "cell_type": "code",
   "execution_count": 62,
   "metadata": {},
   "outputs": [
    {
     "data": {
      "text/plain": [
       "5504.882912106482"
      ]
     },
     "execution_count": 62,
     "metadata": {},
     "output_type": "execute_result"
    }
   ],
   "source": [
    "obj.deltav_max"
   ]
  },
  {
   "cell_type": "code",
   "execution_count": 63,
   "metadata": {},
   "outputs": [
    {
     "data": {
      "text/plain": [
       "29821.692328460056"
      ]
     },
     "execution_count": 63,
     "metadata": {},
     "output_type": "execute_result"
    }
   ],
   "source": [
    "obj.vref"
   ]
  },
  {
   "cell_type": "code",
   "execution_count": 64,
   "metadata": {},
   "outputs": [
    {
     "data": {
      "text/plain": [
       "12574739.08152832"
      ]
     },
     "execution_count": 64,
     "metadata": {},
     "output_type": "execute_result"
    }
   ],
   "source": [
    "2.5*obj.tref"
   ]
  },
  {
   "cell_type": "code",
   "execution_count": null,
   "metadata": {},
   "outputs": [],
   "source": []
  },
  {
   "cell_type": "code",
   "execution_count": null,
   "metadata": {},
   "outputs": [],
   "source": []
  }
 ],
 "metadata": {
  "kernelspec": {
   "display_name": "Python 3",
   "language": "python",
   "name": "python3"
  },
  "language_info": {
   "codemirror_mode": {
    "name": "ipython",
    "version": 3
   },
   "file_extension": ".py",
   "mimetype": "text/x-python",
   "name": "python",
   "nbconvert_exporter": "python",
   "pygments_lexer": "ipython3",
   "version": "3.6.7"
  }
 },
 "nbformat": 4,
 "nbformat_minor": 2
}
